{
 "cells": [
  {
   "cell_type": "markdown",
   "id": "c9e5e1ec-4263-4a4a-b49c-53704963078f",
   "metadata": {},
   "source": [
    "# Comprehension y Funciones lambda"
   ]
  },
  {
   "cell_type": "markdown",
   "id": "86196975-0254-4a5f-af5c-12e9beeacdd1",
   "metadata": {},
   "source": [
    "## Librerias"
   ]
  },
  {
   "cell_type": "code",
   "execution_count": 7,
   "id": "efac7bf4-a143-4a19-b153-7f64f9b31a01",
   "metadata": {},
   "outputs": [],
   "source": [
    "import numpy as np"
   ]
  },
  {
   "cell_type": "markdown",
   "id": "780eaf88-0b47-4a4c-ae3a-d30878781caf",
   "metadata": {},
   "source": [
    "## 1. Comprehension"
   ]
  },
  {
   "cell_type": "markdown",
   "id": "c80dc907-e20c-4c92-a82f-38dae3f4fe15",
   "metadata": {},
   "source": [
    "## Listas"
   ]
  },
  {
   "cell_type": "markdown",
   "id": "152c6af6-2709-487d-91f7-b90bc066e3a2",
   "metadata": {},
   "source": [
    "Las listas permiten almacenar distintos tipos de datos"
   ]
  },
  {
   "cell_type": "code",
   "execution_count": 2,
   "id": "3fc09e51-9a3f-4ab7-bb93-07cc6fa14c57",
   "metadata": {},
   "outputs": [
    {
     "data": {
      "text/plain": [
       "[1, 'Hello', True, 4.5]"
      ]
     },
     "execution_count": 2,
     "metadata": {},
     "output_type": "execute_result"
    }
   ],
   "source": [
    "my_list = [1, 'Hello', True, 4.5]\n",
    "my_list"
   ]
  },
  {
   "cell_type": "markdown",
   "id": "d2d570a1-1b01-46c5-bdb3-1041a3ad6579",
   "metadata": {},
   "source": [
    "### List Comprehension"
   ]
  },
  {
   "cell_type": "markdown",
   "id": "d404c93a-6450-4750-bd16-51c10f3ba03f",
   "metadata": {},
   "source": [
    "**Generar una lista con un ciclo**"
   ]
  },
  {
   "cell_type": "code",
   "execution_count": 1,
   "id": "341be7bf-4aa0-4502-9aef-15cb85c4b2bf",
   "metadata": {},
   "outputs": [
    {
     "data": {
      "text/plain": [
       "[0, 1, 2, 3, 4, 5, 6, 7, 8, 9]"
      ]
     },
     "execution_count": 1,
     "metadata": {},
     "output_type": "execute_result"
    }
   ],
   "source": [
    "my_list_comp = [i for i in range(10)]\n",
    "my_list_comp"
   ]
  },
  {
   "cell_type": "markdown",
   "id": "4c6d91b6-8d87-4cc7-bc8b-c3865233fb11",
   "metadata": {},
   "source": [
    "**Aplicando condicionales**"
   ]
  },
  {
   "cell_type": "code",
   "execution_count": 6,
   "id": "36eb223e-1523-4b87-9c43-b0c04a76ce36",
   "metadata": {},
   "outputs": [
    {
     "data": {
      "text/plain": [
       "[0, 2, 4, 6, 8]"
      ]
     },
     "execution_count": 6,
     "metadata": {},
     "output_type": "execute_result"
    }
   ],
   "source": [
    "my_list_cond = [i for i in range(10) if i%2 == 0]\n",
    "my_list_cond"
   ]
  },
  {
   "cell_type": "markdown",
   "id": "f1656d7b-0e9c-43d4-b749-88f127684978",
   "metadata": {},
   "source": [
    "#### Lista de diccionarios"
   ]
  },
  {
   "cell_type": "code",
   "execution_count": 5,
   "id": "cd717dce-efd8-483b-bdf6-ff37c08f87d6",
   "metadata": {},
   "outputs": [
    {
     "data": {
      "text/plain": [
       "[{'nombre': 'Sandra', 'apellido': 'Martínez'},\n",
       " {'nombre': 'Juan', 'apellido': 'Martínez'}]"
      ]
     },
     "execution_count": 5,
     "metadata": {},
     "output_type": "execute_result"
    }
   ],
   "source": [
    "super_list = [\n",
    "    {'nombre': 'Sandra', 'apellido': 'Martínez'},\n",
    "    {'nombre': 'Juan', 'apellido': 'Martínez'},\n",
    "]\n",
    "\n",
    "super_list"
   ]
  },
  {
   "cell_type": "code",
   "execution_count": 8,
   "id": "c7ef193a-adbd-4368-a885-8062efc6f988",
   "metadata": {},
   "outputs": [
    {
     "name": "stdout",
     "output_type": "stream",
     "text": [
      "{'nombre': 'Sandra', 'apellido': 'Martínez'}\n",
      "{'nombre': 'Juan', 'apellido': 'Martínez'}\n"
     ]
    }
   ],
   "source": [
    "for i in super_list:\n",
    "    print(i)"
   ]
  },
  {
   "cell_type": "markdown",
   "id": "51d8d9e5-ccfc-482e-b9b5-f05201579801",
   "metadata": {},
   "source": [
    "## Diccionarios"
   ]
  },
  {
   "cell_type": "markdown",
   "id": "d4814c73-53aa-4d08-b142-c42ec927a424",
   "metadata": {},
   "source": [
    "Los diccionarios nos permiten almacenar datos sujetos a un indice"
   ]
  },
  {
   "cell_type": "code",
   "execution_count": 1,
   "id": "f4dd0d56-5cb6-488d-8165-d4e766e2aeb1",
   "metadata": {},
   "outputs": [
    {
     "data": {
      "text/plain": [
       "{'nombre': 'Sandra', 'apellido': 'Martínez'}"
      ]
     },
     "execution_count": 1,
     "metadata": {},
     "output_type": "execute_result"
    }
   ],
   "source": [
    "my_dict = {\n",
    "    'nombre': 'Sandra',\n",
    "    'apellido': 'Martínez'\n",
    "}\n",
    "\n",
    "my_dict"
   ]
  },
  {
   "cell_type": "markdown",
   "id": "24589594-f686-4c9e-a875-2d7184d28594",
   "metadata": {},
   "source": [
    "#### Diccionario de listas"
   ]
  },
  {
   "cell_type": "code",
   "execution_count": 4,
   "id": "1f536d6d-60ac-4455-a4c1-07dda61dd41a",
   "metadata": {},
   "outputs": [
    {
     "data": {
      "text/plain": [
       "{'naturales': [1, 2, 3, 4, 5, 6], 'decimales': [3.4, 4.2, 9.4, 0.8]}"
      ]
     },
     "execution_count": 4,
     "metadata": {},
     "output_type": "execute_result"
    }
   ],
   "source": [
    "super_dict = {\n",
    "    'naturales': [1,2,3,4,5,6],\n",
    "    'decimales': [3.4, 4.2, 9.4, 0.8]\n",
    "}\n",
    "\n",
    "super_dict"
   ]
  },
  {
   "cell_type": "code",
   "execution_count": 18,
   "id": "f20f8271-f393-4f03-b6f7-6d6a3dc21b07",
   "metadata": {},
   "outputs": [
    {
     "name": "stdout",
     "output_type": "stream",
     "text": [
      "naturales [1, 2, 3, 4, 5, 6]\n",
      "decimales [3.4, 4.2, 9.4, 0.8]\n"
     ]
    }
   ],
   "source": [
    "for key, values in super_dict.items():\n",
    "    print(key, values)"
   ]
  },
  {
   "cell_type": "markdown",
   "id": "7c50f93a-d067-48fb-8e0c-d11db96842a3",
   "metadata": {},
   "source": [
    "### Dictionary Comprehension"
   ]
  },
  {
   "cell_type": "markdown",
   "id": "c61ebaef-a613-448a-972d-b0554478618a",
   "metadata": {},
   "source": [
    "**Generar un diccionario con un ciclo**"
   ]
  },
  {
   "cell_type": "code",
   "execution_count": 9,
   "id": "98cbfe6a-adce-4c33-bd7c-62fe0821ea47",
   "metadata": {},
   "outputs": [
    {
     "data": {
      "text/plain": [
       "{1: 0, 2: 2, 3: 4, 4: 6, 5: 8, 6: 10, 7: 12, 8: 14, 9: 16, 10: 18}"
      ]
     },
     "execution_count": 9,
     "metadata": {},
     "output_type": "execute_result"
    }
   ],
   "source": [
    "my_dict_comp = {i+1: i*2 for i in range(10)}\n",
    "my_dict_comp"
   ]
  },
  {
   "cell_type": "markdown",
   "id": "ce135e52-ec17-44e7-8c77-7bf2f76771b8",
   "metadata": {},
   "source": [
    "**Aplicando condicionales**"
   ]
  },
  {
   "cell_type": "code",
   "execution_count": 18,
   "id": "760ccf6d-c618-4996-839f-8372e06f9ead",
   "metadata": {},
   "outputs": [
    {
     "data": {
      "text/plain": [
       "{1: 3, 2: 6, 3: 9, 4: 12, 5: 15, 6: 18, 7: 21, 8: 24, 9: 27}"
      ]
     },
     "execution_count": 18,
     "metadata": {},
     "output_type": "execute_result"
    }
   ],
   "source": [
    "my_dict_cond = {i: i*3 for i in range (10) if (i*3)%3 == 0 and i!= 0}\n",
    "my_dict_cond"
   ]
  },
  {
   "cell_type": "code",
   "execution_count": 20,
   "id": "74c91141-9442-46dd-95d7-092e51a6682c",
   "metadata": {},
   "outputs": [
    {
     "data": {
      "text/plain": [
       "{1: 1.0, 2: 1.41, 3: 1.73, 4: 2.0, 5: 2.24, 6: 2.45, 7: 2.65, 8: 2.83, 9: 3.0}"
      ]
     },
     "execution_count": 20,
     "metadata": {},
     "output_type": "execute_result"
    }
   ],
   "source": [
    "my_dict_cond = {i: round(np.sqrt(i), 2) for i in range(10) if i!=0}\n",
    "my_dict_cond"
   ]
  },
  {
   "cell_type": "markdown",
   "id": "4ea3f30c-3184-464e-a249-ce63b7a6d0f0",
   "metadata": {},
   "source": [
    "## 2. Funciones lambda"
   ]
  },
  {
   "cell_type": "code",
   "execution_count": 1,
   "id": "6da43d19-aab8-4982-a1bb-d280f5996c08",
   "metadata": {},
   "outputs": [],
   "source": [
    "palindromo = lambda string: string == string[::-1]"
   ]
  },
  {
   "cell_type": "code",
   "execution_count": 9,
   "id": "52a78eb5-e6c9-4f28-b8f6-835c11a9e45c",
   "metadata": {},
   "outputs": [],
   "source": [
    "while True:\n",
    "    palabra = input('Introduce la cadena de caracteres: ')\n",
    "    if palabra != 'Exit':\n",
    "        if palindromo(palabra):\n",
    "            print('Es un palindromo')\n",
    "            break\n",
    "        else:\n",
    "            print('No es un palindromo')\n",
    "    else:\n",
    "        break"
   ]
  }
 ],
 "metadata": {
  "kernelspec": {
   "display_name": "Python 3 (ipykernel)",
   "language": "python",
   "name": "python3"
  },
  "language_info": {
   "codemirror_mode": {
    "name": "ipython",
    "version": 3
   },
   "file_extension": ".py",
   "mimetype": "text/x-python",
   "name": "python",
   "nbconvert_exporter": "python",
   "pygments_lexer": "ipython3",
   "version": "3.8.12"
  }
 },
 "nbformat": 4,
 "nbformat_minor": 5
}
