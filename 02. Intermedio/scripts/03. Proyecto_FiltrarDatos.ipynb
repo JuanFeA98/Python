{
 "cells": [
  {
   "cell_type": "markdown",
   "metadata": {},
   "source": [
    "# Proyecto: Filtrar datos"
   ]
  },
  {
   "cell_type": "markdown",
   "metadata": {},
   "source": [
    "## Datos"
   ]
  },
  {
   "cell_type": "code",
   "execution_count": 1,
   "metadata": {
    "ExecuteTime": {
     "end_time": "2021-05-24T03:43:30.608481Z",
     "start_time": "2021-05-24T03:43:30.593393Z"
    }
   },
   "outputs": [],
   "source": [
    "DATA = [\n",
    "    {\n",
    "        'name': 'Facundo',\n",
    "        'age': 72,\n",
    "        'organization': 'Platzi',\n",
    "        'position': 'Technical Coach',\n",
    "        'language': 'python',\n",
    "    },\n",
    "    {\n",
    "        'name': 'Luisana',\n",
    "        'age': 33,\n",
    "        'organization': 'Globant',\n",
    "        'position': 'UX Designer',\n",
    "        'language': 'javascript',\n",
    "    },\n",
    "    {\n",
    "        'name': 'Héctor',\n",
    "        'age': 19,\n",
    "        'organization': 'Platzi',\n",
    "        'position': 'Associate',\n",
    "        'language': 'ruby',\n",
    "    },\n",
    "    {\n",
    "        'name': 'Gabriel',\n",
    "        'age': 20,\n",
    "        'organization': 'Platzi',\n",
    "        'position': 'Associate',\n",
    "        'language': 'javascript',\n",
    "    },\n",
    "    {\n",
    "        'name': 'Isabella',\n",
    "        'age': 30,\n",
    "        'organization': 'Platzi',\n",
    "        'position': 'QA Manager',\n",
    "        'language': 'java',\n",
    "    },\n",
    "    {\n",
    "        'name': 'Karo',\n",
    "        'age': 23,\n",
    "        'organization': 'Everis',\n",
    "        'position': 'Backend Developer',\n",
    "        'language': 'python',\n",
    "    },\n",
    "    {\n",
    "        'name': 'Ariel',\n",
    "        'age': 32,\n",
    "        'organization': 'Rappi',\n",
    "        'position': 'Support',\n",
    "        'language': '',\n",
    "    },\n",
    "    {\n",
    "        'name': 'Juan',\n",
    "        'age': 17,\n",
    "        'organization': '',\n",
    "        'position': 'Student',\n",
    "        'language': 'go',\n",
    "    },\n",
    "    {\n",
    "        'name': 'Pablo',\n",
    "        'age': 32,\n",
    "        'organization': 'Master',\n",
    "        'position': 'Human Resources Manager',\n",
    "        'language': 'python',\n",
    "    },\n",
    "    {\n",
    "        'name': 'Lorena',\n",
    "        'age': 56,\n",
    "        'organization': 'Python Organization',\n",
    "        'position': 'Language Maker',\n",
    "        'language': 'python',\n",
    "    },\n",
    "]"
   ]
  },
  {
   "cell_type": "markdown",
   "metadata": {},
   "source": [
    "## Filtros"
   ]
  },
  {
   "cell_type": "markdown",
   "metadata": {},
   "source": [
    "### Traes a los desarrolladores que usan Python"
   ]
  },
  {
   "cell_type": "markdown",
   "metadata": {},
   "source": [
    "#### Usando el ciclo For"
   ]
  },
  {
   "cell_type": "code",
   "execution_count": 2,
   "metadata": {
    "ExecuteTime": {
     "end_time": "2021-05-24T03:43:32.429201Z",
     "start_time": "2021-05-24T03:43:32.418134Z"
    }
   },
   "outputs": [
    {
     "name": "stdout",
     "output_type": "stream",
     "text": [
      "Facundo\n",
      "Karo\n",
      "Pablo\n",
      "Lorena\n"
     ]
    }
   ],
   "source": [
    "for i in range(len(DATA)):\n",
    "    if DATA[i]['language'] == 'python':\n",
    "        print(DATA[i]['name'])"
   ]
  },
  {
   "cell_type": "markdown",
   "metadata": {},
   "source": [
    "#### Usando List Comprehension"
   ]
  },
  {
   "cell_type": "code",
   "execution_count": 3,
   "metadata": {
    "ExecuteTime": {
     "end_time": "2021-05-24T03:43:35.088701Z",
     "start_time": "2021-05-24T03:43:35.067926Z"
    }
   },
   "outputs": [],
   "source": [
    "filt1 = [DATA[i]['name'] for i in range(len(DATA)) if DATA[i]['language'] == 'python']"
   ]
  },
  {
   "cell_type": "code",
   "execution_count": 4,
   "metadata": {
    "ExecuteTime": {
     "end_time": "2021-05-24T03:43:36.063075Z",
     "start_time": "2021-05-24T03:43:36.002307Z"
    }
   },
   "outputs": [
    {
     "data": {
      "text/plain": [
       "['Facundo', 'Karo', 'Pablo', 'Lorena']"
      ]
     },
     "execution_count": 4,
     "metadata": {},
     "output_type": "execute_result"
    }
   ],
   "source": [
    "filt1"
   ]
  },
  {
   "cell_type": "code",
   "execution_count": 69,
   "metadata": {
    "ExecuteTime": {
     "end_time": "2021-05-23T20:07:46.697653Z",
     "start_time": "2021-05-23T20:07:46.687936Z"
    }
   },
   "outputs": [],
   "source": [
    "# filt1 = list(filter(lambda x: x if DATA[x]['language'] == 'python'), DATA)))\n",
    "# filt1 = (filter(lambda x: DATA[x]['language'] == 'python', DATA))"
   ]
  },
  {
   "cell_type": "markdown",
   "metadata": {},
   "source": [
    "### Traes a los desarrolladores que trabajan en Platzi"
   ]
  },
  {
   "cell_type": "markdown",
   "metadata": {},
   "source": [
    "#### Usando el ciclo For"
   ]
  },
  {
   "cell_type": "code",
   "execution_count": 5,
   "metadata": {
    "ExecuteTime": {
     "end_time": "2021-05-24T03:43:40.055635Z",
     "start_time": "2021-05-24T03:43:40.044911Z"
    }
   },
   "outputs": [
    {
     "name": "stdout",
     "output_type": "stream",
     "text": [
      "Facundo\n",
      "Héctor\n",
      "Gabriel\n",
      "Isabella\n"
     ]
    }
   ],
   "source": [
    "for i in range(len(DATA)):\n",
    "    if DATA[i]['organization'] == 'Platzi':\n",
    "        print(DATA[i]['name'])"
   ]
  },
  {
   "cell_type": "markdown",
   "metadata": {},
   "source": [
    "#### Usando List Comprehension"
   ]
  },
  {
   "cell_type": "code",
   "execution_count": 6,
   "metadata": {
    "ExecuteTime": {
     "end_time": "2021-05-24T03:43:41.139371Z",
     "start_time": "2021-05-24T03:43:41.124967Z"
    }
   },
   "outputs": [],
   "source": [
    "filt2 = [DATA[i]['name'] for i in range(len(DATA)) if DATA[i]['organization'] == 'Platzi']"
   ]
  },
  {
   "cell_type": "code",
   "execution_count": 7,
   "metadata": {
    "ExecuteTime": {
     "end_time": "2021-05-24T03:43:41.846616Z",
     "start_time": "2021-05-24T03:43:41.832007Z"
    }
   },
   "outputs": [
    {
     "data": {
      "text/plain": [
       "['Facundo', 'Héctor', 'Gabriel', 'Isabella']"
      ]
     },
     "execution_count": 7,
     "metadata": {},
     "output_type": "execute_result"
    }
   ],
   "source": [
    "filt2"
   ]
  },
  {
   "cell_type": "markdown",
   "metadata": {},
   "source": [
    "### Traes a los desarrolladores mayores de edad"
   ]
  },
  {
   "cell_type": "markdown",
   "metadata": {},
   "source": [
    "#### Usando List Comprehension"
   ]
  },
  {
   "cell_type": "code",
   "execution_count": 9,
   "metadata": {
    "ExecuteTime": {
     "end_time": "2021-05-24T03:45:39.743218Z",
     "start_time": "2021-05-24T03:45:39.733187Z"
    }
   },
   "outputs": [],
   "source": [
    "filt3 = [DATA[i]['name'] for i in range(len(DATA)) if DATA[i]['age']>18]"
   ]
  },
  {
   "cell_type": "code",
   "execution_count": 10,
   "metadata": {
    "ExecuteTime": {
     "end_time": "2021-05-24T03:45:43.593862Z",
     "start_time": "2021-05-24T03:45:43.576411Z"
    }
   },
   "outputs": [
    {
     "data": {
      "text/plain": [
       "['Facundo',\n",
       " 'Luisana',\n",
       " 'Héctor',\n",
       " 'Gabriel',\n",
       " 'Isabella',\n",
       " 'Karo',\n",
       " 'Ariel',\n",
       " 'Pablo',\n",
       " 'Lorena']"
      ]
     },
     "execution_count": 10,
     "metadata": {},
     "output_type": "execute_result"
    }
   ],
   "source": [
    "filt3"
   ]
  },
  {
   "cell_type": "markdown",
   "metadata": {},
   "source": [
    "#### Usando Filter"
   ]
  },
  {
   "cell_type": "code",
   "execution_count": 25,
   "metadata": {
    "ExecuteTime": {
     "end_time": "2021-05-24T03:50:16.451735Z",
     "start_time": "2021-05-24T03:50:16.439224Z"
    }
   },
   "outputs": [],
   "source": [
    "## Esto me trae la información de todos los desarrolladores de edad\n",
    "filt3 = list(filter(lambda i: i['age'] > 18, DATA))"
   ]
  },
  {
   "cell_type": "code",
   "execution_count": 27,
   "metadata": {
    "ExecuteTime": {
     "end_time": "2021-05-24T03:51:49.736266Z",
     "start_time": "2021-05-24T03:51:49.724761Z"
    }
   },
   "outputs": [],
   "source": [
    "## Con esta función me quedo solamente con los nombres de los desarrolladores\n",
    "filt3 = list(map(lambda i: i['name'], filt3))"
   ]
  },
  {
   "cell_type": "code",
   "execution_count": 28,
   "metadata": {
    "ExecuteTime": {
     "end_time": "2021-05-24T03:51:52.363983Z",
     "start_time": "2021-05-24T03:51:52.354977Z"
    }
   },
   "outputs": [
    {
     "data": {
      "text/plain": [
       "['Facundo',\n",
       " 'Luisana',\n",
       " 'Héctor',\n",
       " 'Gabriel',\n",
       " 'Isabella',\n",
       " 'Karo',\n",
       " 'Ariel',\n",
       " 'Pablo',\n",
       " 'Lorena']"
      ]
     },
     "execution_count": 28,
     "metadata": {},
     "output_type": "execute_result"
    }
   ],
   "source": [
    "filt3"
   ]
  },
  {
   "cell_type": "markdown",
   "metadata": {},
   "source": [
    "### Agregar una dummie a la edad"
   ]
  },
  {
   "cell_type": "code",
   "execution_count": 51,
   "metadata": {
    "ExecuteTime": {
     "end_time": "2021-05-24T03:58:38.647961Z",
     "start_time": "2021-05-24T03:58:38.634740Z"
    }
   },
   "outputs": [],
   "source": [
    "old_people = list(map(lambda i: i | {\"old\": i['age'] > 70}, DATA))"
   ]
  },
  {
   "cell_type": "code",
   "execution_count": null,
   "metadata": {
    "ExecuteTime": {
     "start_time": "2021-05-24T04:00:10.972Z"
    }
   },
   "outputs": [],
   "source": [
    "!conda update python"
   ]
  },
  {
   "cell_type": "code",
   "execution_count": 50,
   "metadata": {
    "ExecuteTime": {
     "end_time": "2021-05-24T03:58:38.008645Z",
     "start_time": "2021-05-24T03:58:37.988562Z"
    }
   },
   "outputs": [],
   "source": [
    "old_people = list(map(lambda i: i['age'], old_people))"
   ]
  },
  {
   "cell_type": "code",
   "execution_count": 52,
   "metadata": {
    "ExecuteTime": {
     "end_time": "2021-05-24T03:58:39.348870Z",
     "start_time": "2021-05-24T03:58:39.335412Z"
    }
   },
   "outputs": [
    {
     "data": {
      "text/plain": [
       "[{'name': 'Facundo',\n",
       "  'age': 72,\n",
       "  'organization': 'Platzi',\n",
       "  'position': 'Technical Coach',\n",
       "  'language': 'python'},\n",
       " {'name': 'Luisana',\n",
       "  'age': 33,\n",
       "  'organization': 'Globant',\n",
       "  'position': 'UX Designer',\n",
       "  'language': 'javascript'},\n",
       " {'name': 'Héctor',\n",
       "  'age': 19,\n",
       "  'organization': 'Platzi',\n",
       "  'position': 'Associate',\n",
       "  'language': 'ruby'},\n",
       " {'name': 'Gabriel',\n",
       "  'age': 20,\n",
       "  'organization': 'Platzi',\n",
       "  'position': 'Associate',\n",
       "  'language': 'javascript'},\n",
       " {'name': 'Isabella',\n",
       "  'age': 30,\n",
       "  'organization': 'Platzi',\n",
       "  'position': 'QA Manager',\n",
       "  'language': 'java'},\n",
       " {'name': 'Karo',\n",
       "  'age': 23,\n",
       "  'organization': 'Everis',\n",
       "  'position': 'Backend Developer',\n",
       "  'language': 'python'},\n",
       " {'name': 'Ariel',\n",
       "  'age': 32,\n",
       "  'organization': 'Rappi',\n",
       "  'position': 'Support',\n",
       "  'language': ''},\n",
       " {'name': 'Juan',\n",
       "  'age': 17,\n",
       "  'organization': '',\n",
       "  'position': 'Student',\n",
       "  'language': 'go'},\n",
       " {'name': 'Pablo',\n",
       "  'age': 32,\n",
       "  'organization': 'Master',\n",
       "  'position': 'Human Resources Manager',\n",
       "  'language': 'python'},\n",
       " {'name': 'Lorena',\n",
       "  'age': 56,\n",
       "  'organization': 'Python Organization',\n",
       "  'position': 'Language Maker',\n",
       "  'language': 'python'}]"
      ]
     },
     "execution_count": 52,
     "metadata": {},
     "output_type": "execute_result"
    }
   ],
   "source": [
    "old_people"
   ]
  },
  {
   "cell_type": "code",
   "execution_count": null,
   "metadata": {},
   "outputs": [],
   "source": []
  },
  {
   "cell_type": "code",
   "execution_count": null,
   "metadata": {},
   "outputs": [],
   "source": []
  }
 ],
 "metadata": {
  "kernelspec": {
   "display_name": "Python 3 (ipykernel)",
   "language": "python",
   "name": "python3"
  },
  "language_info": {
   "codemirror_mode": {
    "name": "ipython",
    "version": 3
   },
   "file_extension": ".py",
   "mimetype": "text/x-python",
   "name": "python",
   "nbconvert_exporter": "python",
   "pygments_lexer": "ipython3",
   "version": "3.8.12"
  },
  "toc": {
   "base_numbering": 1,
   "nav_menu": {},
   "number_sections": true,
   "sideBar": true,
   "skip_h1_title": false,
   "title_cell": "Table of Contents",
   "title_sidebar": "Contents",
   "toc_cell": false,
   "toc_position": {},
   "toc_section_display": true,
   "toc_window_display": false
  },
  "varInspector": {
   "cols": {
    "lenName": 16,
    "lenType": 16,
    "lenVar": 40
   },
   "kernels_config": {
    "python": {
     "delete_cmd_postfix": "",
     "delete_cmd_prefix": "del ",
     "library": "var_list.py",
     "varRefreshCmd": "print(var_dic_list())"
    },
    "r": {
     "delete_cmd_postfix": ") ",
     "delete_cmd_prefix": "rm(",
     "library": "var_list.r",
     "varRefreshCmd": "cat(var_dic_list()) "
    }
   },
   "types_to_exclude": [
    "module",
    "function",
    "builtin_function_or_method",
    "instance",
    "_Feature"
   ],
   "window_display": false
  }
 },
 "nbformat": 4,
 "nbformat_minor": 4
}
