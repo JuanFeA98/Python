{
 "cells": [
  {
   "cell_type": "markdown",
   "id": "bf1a00c5-b8a7-47bf-a477-a68d59a71afa",
   "metadata": {},
   "source": [
    "<h1 style='text-align:center; font-weight:1000'>\n",
    "    Tipado estático\n",
    "</h1>"
   ]
  },
  {
   "cell_type": "markdown",
   "id": "7edafa48",
   "metadata": {},
   "source": [
    "## **Librerias**"
   ]
  },
  {
   "cell_type": "code",
   "execution_count": 4,
   "id": "e31d9a7f",
   "metadata": {},
   "outputs": [],
   "source": [
    "import mypy\n",
    "from typing import Tuple, List, Dict"
   ]
  },
  {
   "cell_type": "markdown",
   "id": "ca9029f9",
   "metadata": {},
   "source": [
    "## **Declarando variables**"
   ]
  },
  {
   "cell_type": "code",
   "execution_count": 5,
   "id": "dd6c33c3",
   "metadata": {},
   "outputs": [
    {
     "data": {
      "text/plain": [
       "5"
      ]
     },
     "execution_count": 5,
     "metadata": {},
     "output_type": "execute_result"
    }
   ],
   "source": [
    "a: int = 5\n",
    "a"
   ]
  },
  {
   "cell_type": "code",
   "execution_count": 6,
   "id": "930f7796",
   "metadata": {},
   "outputs": [
    {
     "data": {
      "text/plain": [
       "'Hello'"
      ]
     },
     "execution_count": 6,
     "metadata": {},
     "output_type": "execute_result"
    }
   ],
   "source": [
    "b: str = 'Hello'\n",
    "b"
   ]
  },
  {
   "cell_type": "code",
   "execution_count": 7,
   "id": "9b0ab519",
   "metadata": {},
   "outputs": [
    {
     "data": {
      "text/plain": [
       "True"
      ]
     },
     "execution_count": 7,
     "metadata": {},
     "output_type": "execute_result"
    }
   ],
   "source": [
    "c: bool = True\n",
    "c"
   ]
  },
  {
   "cell_type": "markdown",
   "id": "2cf243f2",
   "metadata": {},
   "source": [
    "## **Funciones**"
   ]
  },
  {
   "cell_type": "code",
   "execution_count": 8,
   "id": "13d9dd38",
   "metadata": {},
   "outputs": [],
   "source": [
    "def suma(a:int, b:int)->int:\n",
    "    return(a + b)"
   ]
  },
  {
   "cell_type": "code",
   "execution_count": 9,
   "id": "23d56109",
   "metadata": {},
   "outputs": [
    {
     "data": {
      "text/plain": [
       "8"
      ]
     },
     "execution_count": 9,
     "metadata": {},
     "output_type": "execute_result"
    }
   ],
   "source": [
    "suma(5,3)"
   ]
  },
  {
   "cell_type": "markdown",
   "id": "0a9902eb",
   "metadata": {},
   "source": [
    "## **Objetos iterables**"
   ]
  },
  {
   "cell_type": "code",
   "execution_count": 10,
   "id": "e9c1bac9",
   "metadata": {},
   "outputs": [
    {
     "data": {
      "text/plain": [
       "[1, 2, 3, 4, 5, 6]"
      ]
     },
     "execution_count": 10,
     "metadata": {},
     "output_type": "execute_result"
    }
   ],
   "source": [
    "# Listas\n",
    "positives: List[int]=[1,2,3,4,5,6]\n",
    "positives"
   ]
  },
  {
   "cell_type": "code",
   "execution_count": 11,
   "id": "0cf29531",
   "metadata": {},
   "outputs": [
    {
     "data": {
      "text/plain": [
       "{'Colombia': 50000, 'Argentina': 30000, 'México': 40000}"
      ]
     },
     "execution_count": 11,
     "metadata": {},
     "output_type": "execute_result"
    }
   ],
   "source": [
    "# Diccionarios\n",
    "users: Dict[str, int]={\n",
    "    'Colombia':50000,\n",
    "    'Argentina': 30000,\n",
    "    'México': 40000\n",
    "}\n",
    "users"
   ]
  },
  {
   "cell_type": "code",
   "execution_count": 12,
   "id": "98e15fdd",
   "metadata": {},
   "outputs": [
    {
     "data": {
      "text/plain": [
       "[{'Colombia': 'Bogotá'},\n",
       " {'Argentina': 'Buenos Aires'},\n",
       " {'México': 'Ciudad de México'}]"
      ]
     },
     "execution_count": 12,
     "metadata": {},
     "output_type": "execute_result"
    }
   ],
   "source": [
    "countries: List[Dict[str, str]] = [\n",
    "    {'Colombia': 'Bogotá'},\n",
    "    {'Argentina': 'Buenos Aires'},\n",
    "    {'México': 'Ciudad de México'}\n",
    "]\n",
    "    \n",
    "countries"
   ]
  },
  {
   "cell_type": "code",
   "execution_count": 13,
   "id": "0e569482",
   "metadata": {},
   "outputs": [
    {
     "data": {
      "text/plain": [
       "(13, 4.5, 31)"
      ]
     },
     "execution_count": 13,
     "metadata": {},
     "output_type": "execute_result"
    }
   ],
   "source": [
    "# Tuplas\n",
    "numbers : Tuple[int, float, int] = (13, 4.5, 31)\n",
    "numbers"
   ]
  },
  {
   "cell_type": "markdown",
   "id": "d8099a2a",
   "metadata": {},
   "source": [
    "## **Ejercicio**"
   ]
  },
  {
   "cell_type": "markdown",
   "id": "ccbb288b",
   "metadata": {},
   "source": [
    "**1.** Hacer un programa que identique si una palabra o frase es un palindromo"
   ]
  },
  {
   "cell_type": "code",
   "execution_count": 14,
   "id": "2e8b7684",
   "metadata": {},
   "outputs": [],
   "source": [
    "def palindromo(string: str) -> bool:\n",
    "    string = string.replace(\" \", \"\")\n",
    "    return (string.upper() == string[::-1].upper())"
   ]
  },
  {
   "cell_type": "markdown",
   "id": "296a7788",
   "metadata": {},
   "source": [
    "Ejecutar en consola el comando **mypy archivo.py --check-untyped-defs** para validar si existe algún error de tipado"
   ]
  },
  {
   "cell_type": "markdown",
   "id": "ec4293dc",
   "metadata": {},
   "source": [
    "**2.** Crear un programa que verifique si un número es primo o no"
   ]
  },
  {
   "cell_type": "code",
   "execution_count": 18,
   "id": "f157b78d",
   "metadata": {},
   "outputs": [],
   "source": [
    "def es_primo(number: int) -> bool:\n",
    "    if number == 1:\n",
    "        return False\n",
    "    else: \n",
    "        pass\n",
    "    \n",
    "    lista = []\n",
    "\n",
    "    for i in range(number):\n",
    "        validacion = number%(number-i)\n",
    "        if validacion == 0:\n",
    "            lista.append(i)\n",
    "        else: \n",
    "            pass\n",
    "\n",
    "    if len(lista) > 2:\n",
    "        return False\n",
    "    else:\n",
    "        return True"
   ]
  }
 ],
 "metadata": {
  "kernelspec": {
   "display_name": "Python 3 (ipykernel)",
   "language": "python",
   "name": "python3"
  },
  "language_info": {
   "codemirror_mode": {
    "name": "ipython",
    "version": 3
   },
   "file_extension": ".py",
   "mimetype": "text/x-python",
   "name": "python",
   "nbconvert_exporter": "python",
   "pygments_lexer": "ipython3",
   "version": "3.10.4"
  }
 },
 "nbformat": 4,
 "nbformat_minor": 5
}
