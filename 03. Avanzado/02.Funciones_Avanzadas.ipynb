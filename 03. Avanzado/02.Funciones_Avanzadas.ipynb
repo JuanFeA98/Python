{
 "cells": [
  {
   "cell_type": "markdown",
   "id": "a8d43f8f-e7fc-406d-8b32-a8f7ec705ab3",
   "metadata": {},
   "source": [
    "<h1 style='text-align:center; font-weight:1000'>\n",
    "    Funciones avanzadas\n",
    "</h1>"
   ]
  },
  {
   "cell_type": "markdown",
   "id": "a70e1931-3f74-4360-aa8d-c0bd842941e9",
   "metadata": {},
   "source": [
    "## **Librerias**"
   ]
  },
  {
   "cell_type": "code",
   "execution_count": 1,
   "id": "a3dcd949-c72e-4ce9-afc0-a4bd436eafc3",
   "metadata": {},
   "outputs": [],
   "source": [
    "from datetime import datetime"
   ]
  },
  {
   "cell_type": "markdown",
   "id": "aee1fa01-ea1d-414d-85b4-ddb361e23bd5",
   "metadata": {},
   "source": [
    "## **1. Scope: Alcance de las variables**\n",
    "\n",
    "Una variable solo está disponible dentro de la región donde fue creada."
   ]
  },
  {
   "cell_type": "markdown",
   "id": "3a9d8cf4-313d-4011-a8e1-26d90f439d20",
   "metadata": {},
   "source": [
    "### **Local scope**"
   ]
  },
  {
   "cell_type": "code",
   "execution_count": 2,
   "id": "8cea8858-4449-4bd5-a439-96ba4f4b7504",
   "metadata": {},
   "outputs": [],
   "source": [
    "def my_func():\n",
    "    y = 5\n",
    "    print(y)"
   ]
  },
  {
   "cell_type": "code",
   "execution_count": 3,
   "id": "ca4c8953-2959-4c1a-8835-edb2bfaa2d00",
   "metadata": {},
   "outputs": [
    {
     "name": "stdout",
     "output_type": "stream",
     "text": [
      "5\n"
     ]
    }
   ],
   "source": [
    "my_func()"
   ]
  },
  {
   "cell_type": "code",
   "execution_count": 4,
   "id": "3d710009-6d06-4ebc-b651-f2772dac0c1b",
   "metadata": {},
   "outputs": [
    {
     "ename": "NameError",
     "evalue": "name 'y' is not defined",
     "output_type": "error",
     "traceback": [
      "\u001b[1;31m---------------------------------------------------------------------------\u001b[0m",
      "\u001b[1;31mNameError\u001b[0m                                 Traceback (most recent call last)",
      "Input \u001b[1;32mIn [4]\u001b[0m, in \u001b[0;36m<cell line: 2>\u001b[1;34m()\u001b[0m\n\u001b[0;32m      1\u001b[0m \u001b[38;5;66;03m# En este caso \"y\" no existe fuera de la función en la que fue declarada\u001b[39;00m\n\u001b[1;32m----> 2\u001b[0m \u001b[43my\u001b[49m\n",
      "\u001b[1;31mNameError\u001b[0m: name 'y' is not defined"
     ]
    }
   ],
   "source": [
    "# En este caso \"y\" no existe fuera de la función en la que fue declarada\n",
    "y"
   ]
  },
  {
   "cell_type": "markdown",
   "id": "6a9e7fcb-ed83-4724-b580-4f28ab82fe44",
   "metadata": {},
   "source": [
    "### **Global scope**"
   ]
  },
  {
   "cell_type": "code",
   "execution_count": 5,
   "id": "22b49909-6463-4a54-b7ae-c1b9e18bada1",
   "metadata": {},
   "outputs": [],
   "source": [
    "y = 5"
   ]
  },
  {
   "cell_type": "code",
   "execution_count": 6,
   "id": "8b0d7e50-7086-4ad2-a6e4-33b8ff788e14",
   "metadata": {},
   "outputs": [],
   "source": [
    "def my_func():\n",
    "    y = 3\n",
    "    print(f'El valor de y es: {y}')"
   ]
  },
  {
   "cell_type": "code",
   "execution_count": 7,
   "id": "d829f103-0d3c-4409-9b37-bfd07faed4f4",
   "metadata": {},
   "outputs": [
    {
     "name": "stdout",
     "output_type": "stream",
     "text": [
      "El valor de y es: 3\n"
     ]
    }
   ],
   "source": [
    "# Y toma el valor que le es asignado dentro de la función\n",
    "my_func()"
   ]
  },
  {
   "cell_type": "code",
   "execution_count": 8,
   "id": "f33cd9d3-03af-4fc8-92a1-09b685087218",
   "metadata": {},
   "outputs": [
    {
     "data": {
      "text/plain": [
       "5"
      ]
     },
     "execution_count": 8,
     "metadata": {},
     "output_type": "execute_result"
    }
   ],
   "source": [
    "# Sin embargo, si vemos el valor de este sigue siendo el que se declaro por fuera de la función\n",
    "y"
   ]
  },
  {
   "cell_type": "markdown",
   "id": "688e051e-0229-4b1a-baf0-5b5cbf3e88ad",
   "metadata": {},
   "source": [
    "## **2. Closures**\n",
    "\n",
    "**Reglas para encontrar un closure**\n",
    "\n",
    "- Debe existir una **nested function**.\n",
    "- La **nested function** debe referenciar el valor de un **scope** súperior.\n",
    "- La función que emvuelve a la **nested function** debe retornarla."
   ]
  },
  {
   "cell_type": "markdown",
   "id": "c8b341e8-764d-48e3-9f10-0242e766a1d2",
   "metadata": {},
   "source": [
    "### **Nested functions**\n",
    "\n",
    "Funciones anidadas"
   ]
  },
  {
   "cell_type": "markdown",
   "id": "2606f0b7-23e9-41a9-96ef-8cf64c22cb9d",
   "metadata": {},
   "source": [
    "#### **Función anidada simple**"
   ]
  },
  {
   "cell_type": "code",
   "execution_count": 9,
   "id": "fa44a19e-f3db-490d-8b62-96bd67cf7748",
   "metadata": {},
   "outputs": [],
   "source": [
    "# Podemos crear funciones dentro de otras funciones\n",
    "def main():\n",
    "    a = 1\n",
    "    def nested():\n",
    "        # Estas funciones pueden tomar variables que pertenezcan al scope de la función superior\n",
    "        print(a)\n",
    "    nested()"
   ]
  },
  {
   "cell_type": "code",
   "execution_count": 10,
   "id": "e9c37428-47df-4fa7-b973-d8927ef9b655",
   "metadata": {},
   "outputs": [
    {
     "name": "stdout",
     "output_type": "stream",
     "text": [
      "1\n"
     ]
    }
   ],
   "source": [
    "main()"
   ]
  },
  {
   "cell_type": "markdown",
   "id": "2a8eec0e-2154-4d1d-9374-586fb3eb6252",
   "metadata": {},
   "source": [
    "#### **Función anidada retornada**"
   ]
  },
  {
   "cell_type": "code",
   "execution_count": 11,
   "id": "10c0edf5-8a53-41cf-9111-f8657a8acf9c",
   "metadata": {},
   "outputs": [],
   "source": [
    "def main():\n",
    "    a = 1\n",
    "    def nested():\n",
    "        print(a)\n",
    "    # En lugar de ejecutar la función la retornamos dentro de la de orden superior     \n",
    "    return nested"
   ]
  },
  {
   "cell_type": "code",
   "execution_count": 12,
   "id": "81b3ef0e-98b9-4cd9-8a4f-887d53d720c8",
   "metadata": {},
   "outputs": [
    {
     "name": "stdout",
     "output_type": "stream",
     "text": [
      "1\n"
     ]
    }
   ],
   "source": [
    "# Y podemos almacenar esta función dentro de una variable\n",
    "my_func = main()\n",
    "\n",
    "# Para después ejecutarla sin problema, esto es un closure\n",
    "my_func()"
   ]
  },
  {
   "cell_type": "markdown",
   "id": "e09b85d2-3ca7-4cae-a429-1e0d0e917a03",
   "metadata": {},
   "source": [
    "### **Ejemplos de Closures**"
   ]
  },
  {
   "cell_type": "markdown",
   "id": "b09b4f20-7b7d-49d8-ae9c-4ee7c36ddfc7",
   "metadata": {},
   "source": [
    "Closure que multiplica dos números."
   ]
  },
  {
   "cell_type": "code",
   "execution_count": 13,
   "id": "fe7d161a-cb7a-4263-bf8f-994a640e54f7",
   "metadata": {},
   "outputs": [],
   "source": [
    "def make_multiplier(x):\n",
    "    def multiplier(y):\n",
    "        print(x * y)\n",
    "    return multiplier"
   ]
  },
  {
   "cell_type": "code",
   "execution_count": 14,
   "id": "83183eab-5b20-407f-9705-bed0c3d8f8e8",
   "metadata": {},
   "outputs": [],
   "source": [
    "my_func_10 = make_multiplier(10)\n",
    "my_func_4 = make_multiplier(4)"
   ]
  },
  {
   "cell_type": "code",
   "execution_count": 15,
   "id": "8426ece7-583d-41f9-b902-07a3f6e50de0",
   "metadata": {},
   "outputs": [
    {
     "name": "stdout",
     "output_type": "stream",
     "text": [
      "10\n"
     ]
    }
   ],
   "source": [
    "my_func_10(1)"
   ]
  },
  {
   "cell_type": "code",
   "execution_count": 16,
   "id": "d75636b9-6c1f-48b8-9c39-5572bc2977ff",
   "metadata": {},
   "outputs": [
    {
     "name": "stdout",
     "output_type": "stream",
     "text": [
      "4\n"
     ]
    }
   ],
   "source": [
    "my_func_4(1)"
   ]
  },
  {
   "cell_type": "markdown",
   "id": "3fa50e73-fe5c-458d-8d90-8f89637ef5f2",
   "metadata": {},
   "source": [
    "Closure que repite un string la cantidad de veces especificadas."
   ]
  },
  {
   "cell_type": "code",
   "execution_count": 17,
   "id": "9fbc47ef-8a5b-4491-a837-b12b25d4b698",
   "metadata": {},
   "outputs": [],
   "source": [
    "def string_generator(string):\n",
    "    def quantity(n):\n",
    "        print((string + (' ')) * n)\n",
    "    return quantity"
   ]
  },
  {
   "cell_type": "code",
   "execution_count": 18,
   "id": "6f88782a-79e9-4061-95cb-582dd7f149e0",
   "metadata": {},
   "outputs": [
    {
     "name": "stdout",
     "output_type": "stream",
     "text": [
      "Sandra Sandra Sandra Sandra Sandra Sandra Sandra Sandra Sandra Sandra Sandra Sandra Sandra Sandra Sandra Sandra Sandra Sandra Sandra Sandra Sandra Sandra Sandra Sandra Sandra Sandra Sandra Sandra Sandra Sandra Sandra \n"
     ]
    }
   ],
   "source": [
    "string_generator('Sandra')(31)"
   ]
  },
  {
   "cell_type": "code",
   "execution_count": 19,
   "id": "ee033198-a726-409e-b4b6-63d93dd002a0",
   "metadata": {},
   "outputs": [],
   "source": [
    "sandra_string = string_generator('Sandra')\n",
    "another_string = string_generator('Another')"
   ]
  },
  {
   "cell_type": "code",
   "execution_count": 20,
   "id": "181c367a-72be-4cb9-8013-7e8c16ca1bd1",
   "metadata": {},
   "outputs": [
    {
     "name": "stdout",
     "output_type": "stream",
     "text": [
      "Sandra Sandra Sandra Sandra Sandra Sandra Sandra Sandra Sandra Sandra Sandra Sandra Sandra Sandra Sandra Sandra Sandra Sandra Sandra Sandra Sandra Sandra Sandra Sandra Sandra Sandra Sandra Sandra Sandra Sandra Sandra \n"
     ]
    }
   ],
   "source": [
    "sandra_string(31)"
   ]
  },
  {
   "cell_type": "code",
   "execution_count": 21,
   "id": "382fe057-6ec5-4b80-af29-e758fb925b9f",
   "metadata": {},
   "outputs": [
    {
     "name": "stdout",
     "output_type": "stream",
     "text": [
      "Another Another Another Another Another \n"
     ]
    }
   ],
   "source": [
    "another_string(5)"
   ]
  },
  {
   "cell_type": "markdown",
   "id": "25cfa2d6-78b2-4946-9fe1-05532cdb8498",
   "metadata": {},
   "source": [
    "## **3. Decoradores**\n",
    "\n",
    "Son funciones que reciben como parámetro otra función, le añaden cosas y retornan una nueva función."
   ]
  },
  {
   "cell_type": "code",
   "execution_count": 22,
   "id": "e1692422-584b-4db8-9ec1-3c055967b719",
   "metadata": {},
   "outputs": [],
   "source": [
    "def decorador(function):\n",
    "    def envoltura():\n",
    "        print('Esto se añade a la función original')\n",
    "        function()\n",
    "    return envoltura"
   ]
  },
  {
   "cell_type": "markdown",
   "id": "17f0771d-dbd9-4fe3-bcb5-328b53bbfb00",
   "metadata": {},
   "source": [
    "#### **Decoradores crudos**"
   ]
  },
  {
   "cell_type": "code",
   "execution_count": 23,
   "id": "10674c33-f588-4b45-9205-b3cc0fa4cd20",
   "metadata": {},
   "outputs": [],
   "source": [
    "def saludo():\n",
    "    print('Hola')"
   ]
  },
  {
   "cell_type": "code",
   "execution_count": 24,
   "id": "eb23f379-88a0-4e0a-b1fc-fac72ef84b61",
   "metadata": {},
   "outputs": [
    {
     "name": "stdout",
     "output_type": "stream",
     "text": [
      "Esto se añade a la función original\n",
      "Hola\n"
     ]
    }
   ],
   "source": [
    "saludo = decorador(saludo)\n",
    "saludo()"
   ]
  },
  {
   "cell_type": "markdown",
   "id": "874b2416-a172-4034-be49-61fffb169607",
   "metadata": {},
   "source": [
    "#### **Decoradores con sugar syntax**"
   ]
  },
  {
   "cell_type": "code",
   "execution_count": 25,
   "id": "aeaaf5ed-d243-47a3-bba1-73f89ec73c03",
   "metadata": {},
   "outputs": [],
   "source": [
    "@decorador\n",
    "def saludo():\n",
    "    print('Hola!')"
   ]
  },
  {
   "cell_type": "code",
   "execution_count": 26,
   "id": "2d8a5e65-4632-49c0-af7e-8803541a3945",
   "metadata": {},
   "outputs": [
    {
     "name": "stdout",
     "output_type": "stream",
     "text": [
      "Esto se añade a la función original\n",
      "Hola!\n"
     ]
    }
   ],
   "source": [
    "saludo()"
   ]
  },
  {
   "cell_type": "markdown",
   "id": "f6421b29-0489-4c25-870e-4c3a495858cf",
   "metadata": {},
   "source": [
    "### **Ejemplos de Decoradores**"
   ]
  },
  {
   "cell_type": "markdown",
   "id": "d548cbc8-6dee-44a3-bb71-ed3b90eee564",
   "metadata": {},
   "source": [
    "Decorador que convierte el texto en mayusculas"
   ]
  },
  {
   "cell_type": "code",
   "execution_count": 27,
   "id": "0fc32837-1eb9-4206-953b-c9c5c487d478",
   "metadata": {},
   "outputs": [],
   "source": [
    "def mayusculas(function):\n",
    "    def envoltura(string):\n",
    "        print(function(string).upper())\n",
    "    return envoltura"
   ]
  },
  {
   "cell_type": "code",
   "execution_count": 28,
   "id": "dc52e5c0-6a8a-43bd-869d-2476c1f97dfd",
   "metadata": {},
   "outputs": [],
   "source": [
    "@mayusculas\n",
    "def mensaje(string):\n",
    "    return(string)"
   ]
  },
  {
   "cell_type": "code",
   "execution_count": 29,
   "id": "bb289421-7455-4cc9-90f2-1022d4c3d0c1",
   "metadata": {},
   "outputs": [
    {
     "name": "stdout",
     "output_type": "stream",
     "text": [
      "HOLA, MUNDO!\n"
     ]
    }
   ],
   "source": [
    "mensaje('Hola, mundo!')"
   ]
  },
  {
   "cell_type": "markdown",
   "id": "4cd837c1-11e9-4083-9241-58967e5797ff",
   "metadata": {},
   "source": [
    "Decorador que indica cuando tarda en ejecutarse una función."
   ]
  },
  {
   "cell_type": "code",
   "execution_count": 30,
   "id": "ea6b178c-6597-4f92-a603-0eeaff6171f3",
   "metadata": {},
   "outputs": [],
   "source": [
    "def execution_time(function):\n",
    "    def wrapper(*args, **kwargs):\n",
    "        initial_time = datetime.now()\n",
    "        function(*args, **kwargs)\n",
    "        final_time = datetime.now()\n",
    "        \n",
    "        execution_time = final_time - initial_time\n",
    "        print(f'Tiempo de ejecución: {execution_time.total_seconds()} segundos')\n",
    "    return wrapper"
   ]
  },
  {
   "cell_type": "code",
   "execution_count": 31,
   "id": "c89a6af0-9a1e-408e-a1fc-a0fbb65d214c",
   "metadata": {},
   "outputs": [
    {
     "name": "stdout",
     "output_type": "stream",
     "text": [
      "Hola, mundo\n",
      "Tiempo de ejecución: 0.056231 segundos\n"
     ]
    }
   ],
   "source": [
    "@execution_time\n",
    "def saludo():\n",
    "    for i in range(1000000):\n",
    "        pass\n",
    "    print('Hola, mundo')\n",
    "    \n",
    "saludo()"
   ]
  },
  {
   "cell_type": "code",
   "execution_count": 35,
   "id": "ef4e9b84-9ebc-464e-8ef7-40f25e7e885e",
   "metadata": {},
   "outputs": [
    {
     "name": "stdout",
     "output_type": "stream",
     "text": [
      "13\n",
      "Tiempo de ejecución: 0.000968 segundos\n"
     ]
    }
   ],
   "source": [
    "@execution_time\n",
    "def suma(x, y):\n",
    "    print(5 + 8)\n",
    "\n",
    "suma(1,2)"
   ]
  },
  {
   "cell_type": "markdown",
   "id": "1f62309e-3413-419e-b80d-89771408b726",
   "metadata": {},
   "source": [
    "Agregando parámetros al decorador"
   ]
  },
  {
   "cell_type": "code",
   "execution_count": 50,
   "id": "a6d40c56-4f2a-44c9-bd21-049291b356f8",
   "metadata": {},
   "outputs": [],
   "source": [
    "def with_custom_message(string):\n",
    "    def with_message(function):\n",
    "        def wrapper(*args, **kwargs):\n",
    "            print(string)\n",
    "            print(function(*args, **kwargs))\n",
    "        return wrapper\n",
    "    return with_message"
   ]
  },
  {
   "cell_type": "code",
   "execution_count": 55,
   "id": "9cd6689c-b97a-458f-9d55-b5226084b9a3",
   "metadata": {},
   "outputs": [],
   "source": [
    "@with_custom_message('Hola!')\n",
    "def suma(x, y):\n",
    "    return(f'El resultado de la suma es: {x + y}')"
   ]
  },
  {
   "cell_type": "code",
   "execution_count": 57,
   "id": "61e0f056-9fdd-4966-85ef-84bbb96b7820",
   "metadata": {},
   "outputs": [
    {
     "name": "stdout",
     "output_type": "stream",
     "text": [
      "Hola!\n",
      "El resultado de la suma es: 13\n"
     ]
    }
   ],
   "source": [
    "suma(8, 5)"
   ]
  }
 ],
 "metadata": {
  "kernelspec": {
   "display_name": "Python 3 (ipykernel)",
   "language": "python",
   "name": "python3"
  },
  "language_info": {
   "codemirror_mode": {
    "name": "ipython",
    "version": 3
   },
   "file_extension": ".py",
   "mimetype": "text/x-python",
   "name": "python",
   "nbconvert_exporter": "python",
   "pygments_lexer": "ipython3",
   "version": "3.10.4"
  }
 },
 "nbformat": 4,
 "nbformat_minor": 5
}
