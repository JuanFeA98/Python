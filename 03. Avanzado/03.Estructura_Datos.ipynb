{
 "cells": [
  {
   "cell_type": "markdown",
   "id": "62d37aea-9fab-407a-873f-bd0cc5aac1b9",
   "metadata": {},
   "source": [
    "<h1 style='text-align:center; font-weight:1000'>\n",
    "    Estrucuras de datos Avanzadas\n",
    "</h1>"
   ]
  },
  {
   "cell_type": "markdown",
   "id": "71869c16-a7a7-47c6-b040-192aa9af529a",
   "metadata": {},
   "source": [
    "## **Librerias**"
   ]
  },
  {
   "cell_type": "code",
   "execution_count": 20,
   "id": "bc4ad279-f5aa-4c80-810f-7db65ab4a56b",
   "metadata": {},
   "outputs": [],
   "source": [
    "import time"
   ]
  },
  {
   "cell_type": "markdown",
   "id": "dee99c17-e3a5-49ee-acbd-49a0a44cc0aa",
   "metadata": {},
   "source": [
    "## **1. Iteradores**\n",
    "\n",
    "Estructura de datos para almacenarlos de manera infinita"
   ]
  },
  {
   "cell_type": "code",
   "execution_count": 15,
   "id": "9c2e1b80-be0b-446a-a0d1-84eeb103563c",
   "metadata": {},
   "outputs": [],
   "source": [
    "# Creamos un objeto iterable\n",
    "my_list = [1, 2, 3, 4, 5]"
   ]
  },
  {
   "cell_type": "code",
   "execution_count": 16,
   "id": "3e6a4e8e-133b-40c8-a928-8fb69a12f5a8",
   "metadata": {},
   "outputs": [],
   "source": [
    "# Creamos un iterador\n",
    "my_iter = iter(my_list)"
   ]
  },
  {
   "cell_type": "code",
   "execution_count": 11,
   "id": "c91c4185-edd6-4005-aa62-6d76017b0486",
   "metadata": {},
   "outputs": [
    {
     "name": "stdout",
     "output_type": "stream",
     "text": [
      "1\n"
     ]
    }
   ],
   "source": [
    "# Iteramos sobre nuestro iterador\n",
    "# Cada vez que ejecutamos la función next vamos avanzando sobre nuestro objeto iterable\n",
    "print(next(my_iter))"
   ]
  },
  {
   "cell_type": "code",
   "execution_count": 17,
   "id": "f89a8c6d-5101-4c8f-adca-13f9c6a776c2",
   "metadata": {},
   "outputs": [
    {
     "name": "stdout",
     "output_type": "stream",
     "text": [
      "1\n",
      "2\n",
      "3\n",
      "4\n",
      "5\n"
     ]
    }
   ],
   "source": [
    "# Iterando un iterador\n",
    "while True:\n",
    "    try:\n",
    "        print(next(my_iter))\n",
    "    except StopIteration:\n",
    "        break"
   ]
  },
  {
   "cell_type": "code",
   "execution_count": 18,
   "id": "fc87e231-c5fa-48bb-950a-d92e1d1db8bc",
   "metadata": {},
   "outputs": [
    {
     "name": "stdout",
     "output_type": "stream",
     "text": [
      "1\n",
      "2\n",
      "3\n",
      "4\n",
      "5\n"
     ]
    }
   ],
   "source": [
    "# Iterando un iterador con sugar syntax\n",
    "for i in my_list:\n",
    "    print(i)"
   ]
  },
  {
   "cell_type": "markdown",
   "id": "5f34ad79-f1f1-44c2-8829-c83737aea8d9",
   "metadata": {},
   "source": [
    "### **Ejemplos**"
   ]
  },
  {
   "cell_type": "markdown",
   "id": "8ddd6271-ff7b-4477-b2cd-eb13a4cc55cf",
   "metadata": {},
   "source": [
    "Sucesión de Fibonacci"
   ]
  },
  {
   "cell_type": "code",
   "execution_count": 42,
   "id": "790ba7b3-f734-4031-8fcd-4df54078cf74",
   "metadata": {},
   "outputs": [],
   "source": [
    "class FiboIter():\n",
    "    \n",
    "    def __iter__(self):\n",
    "        self.n1 = 0\n",
    "        self.n2 = 1\n",
    "        self.counter = 0\n",
    "\n",
    "        return(self)\n",
    "        \n",
    "    def __next__(self):\n",
    "        if self.counter == 0:\n",
    "            self.counter += 1\n",
    "            return self.n1\n",
    "        elif self.counter == 1:\n",
    "            self.counter += 1\n",
    "            return self.n2\n",
    "        else:\n",
    "            self.aux = self.n1 + self.n2\n",
    "            self.n1 = self.n2\n",
    "            self.n2 = self.aux\n",
    "            self.counter += 1\n",
    "            return self.aux"
   ]
  },
  {
   "cell_type": "code",
   "execution_count": 43,
   "id": "189fbfc6-8d9d-4ae5-8b6f-ee52b1518fc2",
   "metadata": {},
   "outputs": [],
   "source": [
    "fibonacci = FiboIter()"
   ]
  },
  {
   "cell_type": "code",
   "execution_count": 47,
   "id": "aaf9fcde-8410-4b15-b444-2bf55f5c421d",
   "metadata": {},
   "outputs": [
    {
     "name": "stdout",
     "output_type": "stream",
     "text": [
      "0\n",
      "1\n",
      "1\n",
      "2\n",
      "3\n",
      "5\n",
      "8\n",
      "13\n",
      "21\n",
      "34\n",
      "55\n",
      "89\n",
      "144\n",
      "233\n",
      "377\n",
      "610\n",
      "987\n",
      "1597\n",
      "2584\n",
      "4181\n",
      "6765\n",
      "10946\n",
      "17711\n",
      "28657\n",
      "46368\n",
      "75025\n"
     ]
    },
    {
     "ename": "KeyboardInterrupt",
     "evalue": "",
     "output_type": "error",
     "traceback": [
      "\u001b[1;31m---------------------------------------------------------------------------\u001b[0m",
      "\u001b[1;31mKeyboardInterrupt\u001b[0m                         Traceback (most recent call last)",
      "Input \u001b[1;32mIn [47]\u001b[0m, in \u001b[0;36m<cell line: 1>\u001b[1;34m()\u001b[0m\n\u001b[0;32m      1\u001b[0m \u001b[38;5;28;01mfor\u001b[39;00m i \u001b[38;5;129;01min\u001b[39;00m fibonacci:\n\u001b[0;32m      2\u001b[0m     \u001b[38;5;28mprint\u001b[39m(i)\n\u001b[1;32m----> 3\u001b[0m     \u001b[43mtime\u001b[49m\u001b[38;5;241;43m.\u001b[39;49m\u001b[43msleep\u001b[49m\u001b[43m(\u001b[49m\u001b[38;5;241;43m1\u001b[39;49m\u001b[43m)\u001b[49m\n",
      "\u001b[1;31mKeyboardInterrupt\u001b[0m: "
     ]
    }
   ],
   "source": [
    "for i in fibonacci:\n",
    "    print(i)\n",
    "    time.sleep(1)"
   ]
  }
 ],
 "metadata": {
  "kernelspec": {
   "display_name": "Python 3 (ipykernel)",
   "language": "python",
   "name": "python3"
  },
  "language_info": {
   "codemirror_mode": {
    "name": "ipython",
    "version": 3
   },
   "file_extension": ".py",
   "mimetype": "text/x-python",
   "name": "python",
   "nbconvert_exporter": "python",
   "pygments_lexer": "ipython3",
   "version": "3.10.4"
  }
 },
 "nbformat": 4,
 "nbformat_minor": 5
}
