{
 "cells": [
  {
   "cell_type": "markdown",
   "id": "62d37aea-9fab-407a-873f-bd0cc5aac1b9",
   "metadata": {},
   "source": [
    "<h1 style='text-align:center; font-weight:1000'>\n",
    "    Estrucuras de datos Avanzadas\n",
    "</h1>"
   ]
  },
  {
   "cell_type": "markdown",
   "id": "71869c16-a7a7-47c6-b040-192aa9af529a",
   "metadata": {},
   "source": [
    "## **Librerias**"
   ]
  },
  {
   "cell_type": "code",
   "execution_count": 1,
   "id": "bc4ad279-f5aa-4c80-810f-7db65ab4a56b",
   "metadata": {},
   "outputs": [],
   "source": [
    "import time"
   ]
  },
  {
   "cell_type": "markdown",
   "id": "dee99c17-e3a5-49ee-acbd-49a0a44cc0aa",
   "metadata": {},
   "source": [
    "## **1. Iteradores**\n",
    "\n",
    "Estructura de datos para almacenarlos de manera infinita"
   ]
  },
  {
   "cell_type": "code",
   "execution_count": 2,
   "id": "9c2e1b80-be0b-446a-a0d1-84eeb103563c",
   "metadata": {},
   "outputs": [],
   "source": [
    "# Creamos un objeto iterable\n",
    "my_list = [1, 2, 3, 4, 5]"
   ]
  },
  {
   "cell_type": "code",
   "execution_count": 3,
   "id": "3e6a4e8e-133b-40c8-a928-8fb69a12f5a8",
   "metadata": {},
   "outputs": [],
   "source": [
    "# Creamos un iterador\n",
    "my_iter = iter(my_list)"
   ]
  },
  {
   "cell_type": "code",
   "execution_count": 4,
   "id": "c91c4185-edd6-4005-aa62-6d76017b0486",
   "metadata": {},
   "outputs": [
    {
     "name": "stdout",
     "output_type": "stream",
     "text": [
      "1\n"
     ]
    }
   ],
   "source": [
    "# Iteramos sobre nuestro iterador\n",
    "# Cada vez que ejecutamos la función next vamos avanzando sobre nuestro objeto iterable\n",
    "print(next(my_iter))"
   ]
  },
  {
   "cell_type": "code",
   "execution_count": 5,
   "id": "f89a8c6d-5101-4c8f-adca-13f9c6a776c2",
   "metadata": {},
   "outputs": [
    {
     "name": "stdout",
     "output_type": "stream",
     "text": [
      "2\n",
      "3\n",
      "4\n",
      "5\n"
     ]
    }
   ],
   "source": [
    "# Iterando un iterador\n",
    "while True:\n",
    "    try:\n",
    "        print(next(my_iter))\n",
    "    except StopIteration:\n",
    "        break"
   ]
  },
  {
   "cell_type": "code",
   "execution_count": 6,
   "id": "fc87e231-c5fa-48bb-950a-d92e1d1db8bc",
   "metadata": {},
   "outputs": [
    {
     "name": "stdout",
     "output_type": "stream",
     "text": [
      "1\n",
      "2\n",
      "3\n",
      "4\n",
      "5\n"
     ]
    }
   ],
   "source": [
    "# Iterando un iterador con sugar syntax\n",
    "for i in my_list:\n",
    "    print(i)"
   ]
  },
  {
   "cell_type": "markdown",
   "id": "5f34ad79-f1f1-44c2-8829-c83737aea8d9",
   "metadata": {},
   "source": [
    "### **Ejemplos**"
   ]
  },
  {
   "cell_type": "markdown",
   "id": "8ddd6271-ff7b-4477-b2cd-eb13a4cc55cf",
   "metadata": {},
   "source": [
    "Sucesión de Fibonacci"
   ]
  },
  {
   "cell_type": "code",
   "execution_count": 7,
   "id": "790ba7b3-f734-4031-8fcd-4df54078cf74",
   "metadata": {},
   "outputs": [],
   "source": [
    "class FiboIter():\n",
    "    def __init__(self, iters):\n",
    "        self.iters = iters\n",
    "        \n",
    "    def __iter__(self):\n",
    "        self.n1 = 0\n",
    "        self.n2 = 1\n",
    "        self.counter = 0\n",
    "\n",
    "        return(self)\n",
    "        \n",
    "    def __next__(self):\n",
    "        if self.counter == 0:\n",
    "            self.counter += 1\n",
    "            return self.n1\n",
    "        elif self.counter == 1:\n",
    "            self.counter += 1\n",
    "            return self.n2\n",
    "        elif self.counter <= self.iters:\n",
    "            self.aux = self.n1 + self.n2\n",
    "            self.n1 = self.n2\n",
    "            self.n2 = self.aux\n",
    "            self.counter += 1\n",
    "            return self.aux\n",
    "        else:\n",
    "            raise StopIteration                             "
   ]
  },
  {
   "cell_type": "code",
   "execution_count": 8,
   "id": "aaf9fcde-8410-4b15-b444-2bf55f5c421d",
   "metadata": {},
   "outputs": [
    {
     "name": "stdout",
     "output_type": "stream",
     "text": [
      "0\n",
      "1\n",
      "1\n",
      "2\n",
      "3\n",
      "5\n"
     ]
    }
   ],
   "source": [
    "fibonacci = FiboIter(5)\n",
    "\n",
    "for i in fibonacci:\n",
    "    print(i)"
   ]
  },
  {
   "cell_type": "markdown",
   "id": "8295be60-e9f9-4703-8af4-ba273a4e2b52",
   "metadata": {},
   "source": [
    "## **2. Generadores**\n",
    "\n",
    "Son funciones que guardan un estado. Son la *sugar syntax* de los iteradores"
   ]
  },
  {
   "cell_type": "code",
   "execution_count": 9,
   "id": "44eb712a-5601-47ae-a308-526d2343cb17",
   "metadata": {},
   "outputs": [],
   "source": [
    "def my_gen():\n",
    "    print('Hola, mundo!')\n",
    "    n = 0\n",
    "    yield n\n",
    "    \n",
    "    print('Numero 1')\n",
    "    n += 1\n",
    "    yield n\n",
    "\n",
    "    print('Numero 2')\n",
    "    n += 2\n",
    "    yield n"
   ]
  },
  {
   "cell_type": "code",
   "execution_count": 10,
   "id": "fc7ac5be-aadc-4831-a9b3-cbb4beae2a83",
   "metadata": {},
   "outputs": [],
   "source": [
    "a = my_gen()"
   ]
  },
  {
   "cell_type": "code",
   "execution_count": 15,
   "id": "f243ac5b-a59a-4418-82d6-4afa863e1b25",
   "metadata": {},
   "outputs": [
    {
     "name": "stdout",
     "output_type": "stream",
     "text": [
      "Numero 1\n"
     ]
    },
    {
     "data": {
      "text/plain": [
       "1"
      ]
     },
     "execution_count": 15,
     "metadata": {},
     "output_type": "execute_result"
    }
   ],
   "source": [
    "next(a)"
   ]
  },
  {
   "cell_type": "markdown",
   "id": "58c98a6a-56c9-4efe-bed1-0f1b2cf8e388",
   "metadata": {},
   "source": [
    "### **Ejemplos**"
   ]
  },
  {
   "cell_type": "markdown",
   "id": "ae08b950-77bc-4964-88a0-c1a94e2b9c5c",
   "metadata": {},
   "source": [
    "Sucesión de Fibonacci"
   ]
  },
  {
   "cell_type": "code",
   "execution_count": 12,
   "id": "b03b322d-26e2-409f-b4c0-e6d32b9a7bb1",
   "metadata": {},
   "outputs": [],
   "source": [
    "def fibonacci_generator(iters):\n",
    "    n1 = 0\n",
    "    n2 = 1\n",
    "    counter = 0\n",
    "    \n",
    "    while True:\n",
    "        if counter == 0:\n",
    "            counter += 1\n",
    "            yield n1\n",
    "        elif counter == 1:\n",
    "            counter += 1\n",
    "            yield n2\n",
    "            \n",
    "        elif counter <= iters:\n",
    "            aux = n1 + n2\n",
    "            n1, n2 = n2, aux\n",
    "            counter += 1\n",
    "            yield aux\n",
    "        else:\n",
    "            break"
   ]
  },
  {
   "cell_type": "code",
   "execution_count": 13,
   "id": "f54234f6-689d-4bc7-b508-4ad45e3fcb1c",
   "metadata": {},
   "outputs": [],
   "source": [
    "fibo_gen = fibonacci_generator(10)"
   ]
  },
  {
   "cell_type": "code",
   "execution_count": 14,
   "id": "6e0c0071-c0c2-4b17-843f-fbd7cd13ab68",
   "metadata": {},
   "outputs": [
    {
     "name": "stdout",
     "output_type": "stream",
     "text": [
      "0\n",
      "1\n",
      "1\n",
      "2\n",
      "3\n",
      "5\n",
      "8\n",
      "13\n",
      "21\n",
      "34\n",
      "55\n"
     ]
    }
   ],
   "source": [
    "for i in fibonacci_generator(10):\n",
    "    print(i)"
   ]
  },
  {
   "cell_type": "markdown",
   "id": "e00b6904-2f2d-4f8b-a94c-b765fa861841",
   "metadata": {},
   "source": [
    "## **3. Sets**\n",
    "\n",
    "Es una colección desordenada de elementos únicos e inmutables."
   ]
  },
  {
   "cell_type": "code",
   "execution_count": 58,
   "id": "12b9497c-b637-459a-be69-b650ce9934b5",
   "metadata": {},
   "outputs": [
    {
     "data": {
      "text/plain": [
       "{(1, 2, 4), 1, 2, 3, 4, False}"
      ]
     },
     "execution_count": 58,
     "metadata": {},
     "output_type": "execute_result"
    }
   ],
   "source": [
    "# Crar un set\n",
    "my_set = {1, (1, 2, 4), 2, 3, False, 4}\n",
    "my_set"
   ]
  },
  {
   "cell_type": "code",
   "execution_count": 59,
   "id": "819d8570-69b6-408a-8d5a-585689cd7ccc",
   "metadata": {},
   "outputs": [
    {
     "data": {
      "text/plain": [
       "set()"
      ]
     },
     "execution_count": 59,
     "metadata": {},
     "output_type": "execute_result"
    }
   ],
   "source": [
    "# Inicializar un set vacio\n",
    "set()"
   ]
  },
  {
   "cell_type": "code",
   "execution_count": 60,
   "id": "2da12b8f-343c-4565-b712-56cbc258e99f",
   "metadata": {},
   "outputs": [
    {
     "data": {
      "text/plain": [
       "{(1, 2, 4), 1, 2, 3, 4, 9, False}"
      ]
     },
     "execution_count": 60,
     "metadata": {},
     "output_type": "execute_result"
    }
   ],
   "source": [
    "# Agregar elementos al set\n",
    "my_set.add(9)\n",
    "my_set"
   ]
  },
  {
   "cell_type": "code",
   "execution_count": 61,
   "id": "55dff0cf-cd04-44d2-ba12-e24dd0fd02ff",
   "metadata": {},
   "outputs": [
    {
     "data": {
      "text/plain": [
       "{(1, 2, 4), 1, 10, 2, 3, 31, 4, 40, 9, False}"
      ]
     },
     "execution_count": 61,
     "metadata": {},
     "output_type": "execute_result"
    }
   ],
   "source": [
    "# Agregar varios elementos al set\n",
    "my_set.update([10, 40, 31])\n",
    "my_set"
   ]
  },
  {
   "cell_type": "code",
   "execution_count": 74,
   "id": "d97fedbc-35ad-442f-ae42-d7f0fcc86097",
   "metadata": {},
   "outputs": [
    {
     "data": {
      "text/plain": [
       "{(1, 2, 4), 10, 3, 31, 4, 40, 9, False}"
      ]
     },
     "execution_count": 74,
     "metadata": {},
     "output_type": "execute_result"
    }
   ],
   "source": [
    "# Eliminar elementos de un set\n",
    "my_set.discard(1)\n",
    "my_set"
   ]
  },
  {
   "cell_type": "code",
   "execution_count": 63,
   "id": "6c2c2ca1-cbf6-4dbb-b054-4661e4af7f35",
   "metadata": {},
   "outputs": [
    {
     "data": {
      "text/plain": [
       "{(1, 2, 4), 10, 3, 31, 4, 40, 9, False}"
      ]
     },
     "execution_count": 63,
     "metadata": {},
     "output_type": "execute_result"
    }
   ],
   "source": [
    "# Eliminar elementos de un set\n",
    "my_set.remove(2)\n",
    "my_set"
   ]
  },
  {
   "cell_type": "code",
   "execution_count": 76,
   "id": "f04d018e-916e-48ba-b881-282df9c731da",
   "metadata": {},
   "outputs": [
    {
     "data": {
      "text/plain": [
       "{(1, 2, 4), 10, 31, 4, 40, 9}"
      ]
     },
     "execution_count": 76,
     "metadata": {},
     "output_type": "execute_result"
    }
   ],
   "source": [
    "# Eliminar un elemento aleatorio\n",
    "my_set.pop()\n",
    "my_set"
   ]
  },
  {
   "cell_type": "code",
   "execution_count": 77,
   "id": "0236d255-048b-4e16-88fc-a8b00b6f7719",
   "metadata": {},
   "outputs": [
    {
     "data": {
      "text/plain": [
       "set()"
      ]
     },
     "execution_count": 77,
     "metadata": {},
     "output_type": "execute_result"
    }
   ],
   "source": [
    "# Limpiar un set\n",
    "my_set.clear()\n",
    "my_set"
   ]
  },
  {
   "cell_type": "markdown",
   "id": "91bfa7b9-5dc6-472f-a660-90ecab57d86d",
   "metadata": {},
   "source": [
    "### **Operaciones con sets**"
   ]
  },
  {
   "cell_type": "code",
   "execution_count": 78,
   "id": "f7522530-5568-4067-8c1c-e7616d88e845",
   "metadata": {},
   "outputs": [],
   "source": [
    "my_set1 = {1, 2, 3, 4}\n",
    "my_set2 = {4, 5, 6, 7}"
   ]
  },
  {
   "cell_type": "markdown",
   "id": "370a5dee-5a84-4f50-aed0-9c720264b8b7",
   "metadata": {},
   "source": [
    "#### **Union**"
   ]
  },
  {
   "cell_type": "code",
   "execution_count": 80,
   "id": "a09fe401-1c1a-49ca-93c1-18155ce0fabd",
   "metadata": {},
   "outputs": [
    {
     "data": {
      "text/plain": [
       "{1, 2, 3, 4, 5, 6, 7}"
      ]
     },
     "execution_count": 80,
     "metadata": {},
     "output_type": "execute_result"
    }
   ],
   "source": [
    "my_set1 | my_set2"
   ]
  },
  {
   "cell_type": "code",
   "execution_count": 79,
   "id": "68d293aa-b29f-49e1-935c-0d3764383a27",
   "metadata": {},
   "outputs": [
    {
     "data": {
      "text/plain": [
       "{1, 2, 3, 4, 5, 6, 7}"
      ]
     },
     "execution_count": 79,
     "metadata": {},
     "output_type": "execute_result"
    }
   ],
   "source": [
    "my_set1.union(my_set2)"
   ]
  },
  {
   "cell_type": "markdown",
   "id": "014108ce-eed6-4e54-9412-c8d51ec5e49d",
   "metadata": {},
   "source": [
    "#### **Intersección**"
   ]
  },
  {
   "cell_type": "code",
   "execution_count": 81,
   "id": "6d40e966-bfad-4ea3-97e2-8796fd371612",
   "metadata": {},
   "outputs": [
    {
     "data": {
      "text/plain": [
       "{4}"
      ]
     },
     "execution_count": 81,
     "metadata": {},
     "output_type": "execute_result"
    }
   ],
   "source": [
    "my_set1 & my_set2"
   ]
  },
  {
   "cell_type": "code",
   "execution_count": 82,
   "id": "c54f0a1a-9ffe-4853-9dfc-4fc2e100f740",
   "metadata": {},
   "outputs": [
    {
     "data": {
      "text/plain": [
       "{4}"
      ]
     },
     "execution_count": 82,
     "metadata": {},
     "output_type": "execute_result"
    }
   ],
   "source": [
    "my_set1.intersection(my_set2)"
   ]
  },
  {
   "cell_type": "markdown",
   "id": "1062a6f2-008c-438b-88cc-cde993158a40",
   "metadata": {},
   "source": [
    "#### **Diferencia**"
   ]
  },
  {
   "cell_type": "code",
   "execution_count": 84,
   "id": "0b70854a-03f3-4398-b462-7c755320abdf",
   "metadata": {},
   "outputs": [
    {
     "data": {
      "text/plain": [
       "{1, 2, 3}"
      ]
     },
     "execution_count": 84,
     "metadata": {},
     "output_type": "execute_result"
    }
   ],
   "source": [
    "my_set1 - my_set2"
   ]
  },
  {
   "cell_type": "code",
   "execution_count": 83,
   "id": "c09630e7-e7e7-40de-8c95-f8608088cc70",
   "metadata": {},
   "outputs": [
    {
     "data": {
      "text/plain": [
       "{1, 2, 3}"
      ]
     },
     "execution_count": 83,
     "metadata": {},
     "output_type": "execute_result"
    }
   ],
   "source": [
    "my_set1.difference(my_set2)"
   ]
  },
  {
   "cell_type": "markdown",
   "id": "e1b6ab02-7d3e-4d27-98de-52d8570b7246",
   "metadata": {},
   "source": [
    "#### **Diferencia simétrica**"
   ]
  },
  {
   "cell_type": "code",
   "execution_count": 86,
   "id": "e6595c52-71a6-42ec-9d3a-b451bc41edb4",
   "metadata": {},
   "outputs": [
    {
     "data": {
      "text/plain": [
       "{1, 2, 3, 5, 6, 7}"
      ]
     },
     "execution_count": 86,
     "metadata": {},
     "output_type": "execute_result"
    }
   ],
   "source": [
    "my_set1 ^ my_set2"
   ]
  },
  {
   "cell_type": "code",
   "execution_count": 85,
   "id": "a0e21eec-6604-4483-9d4b-7f75c1bed2af",
   "metadata": {},
   "outputs": [
    {
     "data": {
      "text/plain": [
       "{1, 2, 3, 5, 6, 7}"
      ]
     },
     "execution_count": 85,
     "metadata": {},
     "output_type": "execute_result"
    }
   ],
   "source": [
    "my_set1.symmetric_difference(my_set2)"
   ]
  }
 ],
 "metadata": {
  "kernelspec": {
   "display_name": "Python 3 (ipykernel)",
   "language": "python",
   "name": "python3"
  },
  "language_info": {
   "codemirror_mode": {
    "name": "ipython",
    "version": 3
   },
   "file_extension": ".py",
   "mimetype": "text/x-python",
   "name": "python",
   "nbconvert_exporter": "python",
   "pygments_lexer": "ipython3",
   "version": "3.10.4"
  }
 },
 "nbformat": 4,
 "nbformat_minor": 5
}
