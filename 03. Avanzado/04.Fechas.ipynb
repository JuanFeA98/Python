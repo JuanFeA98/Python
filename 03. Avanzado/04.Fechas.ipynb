{
 "cells": [
  {
   "cell_type": "markdown",
   "id": "71f13164-e4bc-4883-abf7-05cc90bfeb76",
   "metadata": {},
   "source": [
    "<h1 style='text-align:center; font-weight:1000'>\n",
    "    Manejo de fechas\n",
    "</h1>    "
   ]
  },
  {
   "cell_type": "markdown",
   "id": "169e0e3a-4aec-4163-b694-cd5e47235b3c",
   "metadata": {},
   "source": [
    "## **Librerias**"
   ]
  },
  {
   "cell_type": "code",
   "execution_count": 1,
   "id": "0bbab4c6-b481-497d-bc33-f47aaffd07cc",
   "metadata": {},
   "outputs": [],
   "source": [
    "import datetime"
   ]
  },
  {
   "cell_type": "code",
   "execution_count": 2,
   "id": "42ad0b19-56d0-404e-a202-0f8f1ae196e7",
   "metadata": {},
   "outputs": [
    {
     "data": {
      "text/plain": [
       "datetime.datetime(2022, 6, 18, 10, 13, 58, 478400)"
      ]
     },
     "execution_count": 2,
     "metadata": {},
     "output_type": "execute_result"
    }
   ],
   "source": [
    "# Hora local\n",
    "my_time = datetime.datetime.now()\n",
    "my_time"
   ]
  },
  {
   "cell_type": "code",
   "execution_count": 3,
   "id": "6f1787f0-df0e-48d0-adc0-67420b961534",
   "metadata": {},
   "outputs": [
    {
     "data": {
      "text/plain": [
       "datetime.datetime(2022, 6, 18, 15, 14, 1, 208878)"
      ]
     },
     "execution_count": 3,
     "metadata": {},
     "output_type": "execute_result"
    }
   ],
   "source": [
    "# Hora universal\n",
    "my_time2 = datetime.datetime.utcnow()\n",
    "my_time2"
   ]
  },
  {
   "cell_type": "markdown",
   "id": "7c2b9c96-6272-4974-b97b-27aa244d783c",
   "metadata": {},
   "source": [
    "### **Extraer el año, mes y día**"
   ]
  },
  {
   "cell_type": "code",
   "execution_count": 4,
   "id": "962e5156-71f5-4647-8113-7c198a5b5084",
   "metadata": {},
   "outputs": [
    {
     "data": {
      "text/plain": [
       "datetime.date(2022, 6, 18)"
      ]
     },
     "execution_count": 4,
     "metadata": {},
     "output_type": "execute_result"
    }
   ],
   "source": [
    "my_day = datetime.date.today()\n",
    "my_day"
   ]
  },
  {
   "cell_type": "code",
   "execution_count": 5,
   "id": "85f0783c-b984-4f56-9109-2a40964c32e0",
   "metadata": {},
   "outputs": [
    {
     "data": {
      "text/plain": [
       "2022"
      ]
     },
     "execution_count": 5,
     "metadata": {},
     "output_type": "execute_result"
    }
   ],
   "source": [
    "my_day.year"
   ]
  },
  {
   "cell_type": "code",
   "execution_count": 6,
   "id": "d5f376fb-a03c-40ff-a2aa-9fad222a6a67",
   "metadata": {},
   "outputs": [
    {
     "data": {
      "text/plain": [
       "6"
      ]
     },
     "execution_count": 6,
     "metadata": {},
     "output_type": "execute_result"
    }
   ],
   "source": [
    "my_day.month"
   ]
  },
  {
   "cell_type": "code",
   "execution_count": 7,
   "id": "5b19e567-e429-4718-bdfe-4133c0fe7ab2",
   "metadata": {},
   "outputs": [
    {
     "data": {
      "text/plain": [
       "18"
      ]
     },
     "execution_count": 7,
     "metadata": {},
     "output_type": "execute_result"
    }
   ],
   "source": [
    "my_day.day"
   ]
  },
  {
   "cell_type": "markdown",
   "id": "4c7baa66-11e8-41cc-861d-fab9a4c9ad79",
   "metadata": {},
   "source": [
    "### **Formateando fechas**"
   ]
  },
  {
   "cell_type": "code",
   "execution_count": 9,
   "id": "b0c0333d-69d2-49bd-9832-a5a627faf242",
   "metadata": {},
   "outputs": [
    {
     "data": {
      "text/plain": [
       "datetime.datetime(2022, 6, 18, 10, 19, 40, 155931)"
      ]
     },
     "execution_count": 9,
     "metadata": {},
     "output_type": "execute_result"
    }
   ],
   "source": [
    "my_datetime = datetime.datetime.now()\n",
    "my_datetime"
   ]
  },
  {
   "cell_type": "code",
   "execution_count": 11,
   "id": "c211cb60-1ee4-483b-be37-6b7e0d01e45e",
   "metadata": {},
   "outputs": [
    {
     "data": {
      "text/plain": [
       "'18/06/2022'"
      ]
     },
     "execution_count": 11,
     "metadata": {},
     "output_type": "execute_result"
    }
   ],
   "source": [
    "# Formato LATAM\n",
    "my_datetime.strftime('%d/%m/%Y')"
   ]
  },
  {
   "cell_type": "code",
   "execution_count": 14,
   "id": "56d19f95-4154-4ff3-b3d4-d5c7c3bd6b7c",
   "metadata": {},
   "outputs": [
    {
     "data": {
      "text/plain": [
       "'06/18/2022'"
      ]
     },
     "execution_count": 14,
     "metadata": {},
     "output_type": "execute_result"
    }
   ],
   "source": [
    "# Formato USA\n",
    "my_datetime.strftime('%m/%d/%Y')"
   ]
  }
 ],
 "metadata": {
  "kernelspec": {
   "display_name": "Python 3 (ipykernel)",
   "language": "python",
   "name": "python3"
  },
  "language_info": {
   "codemirror_mode": {
    "name": "ipython",
    "version": 3
   },
   "file_extension": ".py",
   "mimetype": "text/x-python",
   "name": "python",
   "nbconvert_exporter": "python",
   "pygments_lexer": "ipython3",
   "version": "3.10.4"
  }
 },
 "nbformat": 4,
 "nbformat_minor": 5
}
