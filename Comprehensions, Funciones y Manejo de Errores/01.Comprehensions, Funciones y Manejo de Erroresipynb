{
 "cells": [
  {
   "cell_type": "markdown",
   "metadata": {},
   "source": [
    "# **Comprehensions, Funciones y Manejo de Errores**"
   ]
  },
  {
   "cell_type": "markdown",
   "metadata": {},
   "source": [
    "## **Librerías**"
   ]
  },
  {
   "cell_type": "code",
   "execution_count": 1,
   "metadata": {},
   "outputs": [],
   "source": [
    "import pandas as pd\n",
    "import numpy as np\n",
    "import matplotlib as plt\n",
    "import seaborn as sns"
   ]
  },
  {
   "cell_type": "markdown",
   "metadata": {},
   "source": [
    "## **1. Conjuntos**"
   ]
  },
  {
   "cell_type": "markdown",
   "metadata": {},
   "source": [
    "- Se pueden modificar.\n",
    "- No tienen un orden.\n",
    "- No se permiten datos duplicados.\n",
    "- Permite utilizar diferentes tipos de datos."
   ]
  },
  {
   "cell_type": "code",
   "execution_count": 34,
   "metadata": {},
   "outputs": [],
   "source": [
    "set_countries = {'COL', 'MEX', 'BOL', 'COL'}"
   ]
  },
  {
   "cell_type": "code",
   "execution_count": 35,
   "metadata": {},
   "outputs": [
    {
     "data": {
      "text/plain": [
       "{'BOL', 'COL', 'MEX'}"
      ]
     },
     "execution_count": 35,
     "metadata": {},
     "output_type": "execute_result"
    }
   ],
   "source": [
    "set_countries"
   ]
  },
  {
   "cell_type": "code",
   "execution_count": 36,
   "metadata": {},
   "outputs": [
    {
     "data": {
      "text/plain": [
       "set"
      ]
     },
     "execution_count": 36,
     "metadata": {},
     "output_type": "execute_result"
    }
   ],
   "source": [
    "type(set_countries)"
   ]
  },
  {
   "cell_type": "code",
   "execution_count": 37,
   "metadata": {},
   "outputs": [
    {
     "data": {
      "text/plain": [
       "3"
      ]
     },
     "execution_count": 37,
     "metadata": {},
     "output_type": "execute_result"
    }
   ],
   "source": [
    "len(set_countries)"
   ]
  },
  {
   "cell_type": "markdown",
   "metadata": {},
   "source": [
    "### **Modificanco elementos en un conjunto**"
   ]
  },
  {
   "cell_type": "code",
   "execution_count": 38,
   "metadata": {},
   "outputs": [
    {
     "data": {
      "text/plain": [
       "{'BOL', 'CHI', 'COL', 'MEX'}"
      ]
     },
     "execution_count": 38,
     "metadata": {},
     "output_type": "execute_result"
    }
   ],
   "source": [
    "# Agregar elementos\n",
    "set_countries.add('CHI')\n",
    "set_countries"
   ]
  },
  {
   "cell_type": "code",
   "execution_count": 39,
   "metadata": {},
   "outputs": [
    {
     "data": {
      "text/plain": [
       "{'ARG', 'BOL', 'CHI', 'COL', 'ECU', 'MEX'}"
      ]
     },
     "execution_count": 39,
     "metadata": {},
     "output_type": "execute_result"
    }
   ],
   "source": [
    "# Agregar varios elementos\n",
    "set_countries.update({'ARG', 'ECU'})\n",
    "set_countries"
   ]
  },
  {
   "cell_type": "code",
   "execution_count": 40,
   "metadata": {},
   "outputs": [
    {
     "data": {
      "text/plain": [
       "{'ARG', 'CHI', 'COL', 'ECU', 'MEX'}"
      ]
     },
     "execution_count": 40,
     "metadata": {},
     "output_type": "execute_result"
    }
   ],
   "source": [
    "# Eliminar elementos\n",
    "set_countries.remove('BOL')\n",
    "set_countries"
   ]
  },
  {
   "cell_type": "code",
   "execution_count": 41,
   "metadata": {},
   "outputs": [
    {
     "data": {
      "text/plain": [
       "{'ARG', 'CHI', 'COL', 'ECU', 'MEX'}"
      ]
     },
     "execution_count": 41,
     "metadata": {},
     "output_type": "execute_result"
    }
   ],
   "source": [
    "# Decartar elementos\n",
    "set_countries.discard('BOL')\n",
    "set_countries"
   ]
  },
  {
   "cell_type": "code",
   "execution_count": 42,
   "metadata": {},
   "outputs": [
    {
     "data": {
      "text/plain": [
       "set()"
      ]
     },
     "execution_count": 42,
     "metadata": {},
     "output_type": "execute_result"
    }
   ],
   "source": [
    "# Vaciár el conjunto\n",
    "set_countries.clear()\n",
    "set_countries"
   ]
  },
  {
   "cell_type": "markdown",
   "metadata": {},
   "source": [
    "### **Operaciones con conjuntos**"
   ]
  },
  {
   "cell_type": "code",
   "execution_count": 43,
   "metadata": {},
   "outputs": [],
   "source": [
    "A = {'COL', 'BOL', 'MEX'}\n",
    "B = {'BOL', 'PER'}"
   ]
  },
  {
   "cell_type": "code",
   "execution_count": 47,
   "metadata": {},
   "outputs": [
    {
     "data": {
      "text/plain": [
       "{'BOL', 'COL', 'MEX', 'PER'}"
      ]
     },
     "execution_count": 47,
     "metadata": {},
     "output_type": "execute_result"
    }
   ],
   "source": [
    "# Union\n",
    "A.union(B)"
   ]
  },
  {
   "cell_type": "code",
   "execution_count": 52,
   "metadata": {},
   "outputs": [
    {
     "data": {
      "text/plain": [
       "{'BOL', 'COL', 'MEX', 'PER'}"
      ]
     },
     "execution_count": 52,
     "metadata": {},
     "output_type": "execute_result"
    }
   ],
   "source": [
    "# Union\n",
    "A | B"
   ]
  },
  {
   "cell_type": "code",
   "execution_count": 48,
   "metadata": {},
   "outputs": [
    {
     "data": {
      "text/plain": [
       "{'BOL'}"
      ]
     },
     "execution_count": 48,
     "metadata": {},
     "output_type": "execute_result"
    }
   ],
   "source": [
    "# Intersección\n",
    "A.intersection(B)"
   ]
  },
  {
   "cell_type": "code",
   "execution_count": 51,
   "metadata": {},
   "outputs": [
    {
     "data": {
      "text/plain": [
       "{'BOL'}"
      ]
     },
     "execution_count": 51,
     "metadata": {},
     "output_type": "execute_result"
    }
   ],
   "source": [
    "# Intersección\n",
    "A & B"
   ]
  },
  {
   "cell_type": "code",
   "execution_count": 56,
   "metadata": {},
   "outputs": [
    {
     "data": {
      "text/plain": [
       "({'COL', 'MEX'}, {'PER'})"
      ]
     },
     "execution_count": 56,
     "metadata": {},
     "output_type": "execute_result"
    }
   ],
   "source": [
    "# Diferencia \n",
    "A.difference(B), B.difference(A)"
   ]
  },
  {
   "cell_type": "code",
   "execution_count": 54,
   "metadata": {},
   "outputs": [
    {
     "data": {
      "text/plain": [
       "({'COL', 'MEX'}, {'PER'})"
      ]
     },
     "execution_count": 54,
     "metadata": {},
     "output_type": "execute_result"
    }
   ],
   "source": [
    "# Diferencia \n",
    "A - B, B - A"
   ]
  },
  {
   "cell_type": "code",
   "execution_count": 61,
   "metadata": {},
   "outputs": [
    {
     "data": {
      "text/plain": [
       "({'COL', 'MEX', 'PER'}, {'COL', 'MEX', 'PER'})"
      ]
     },
     "execution_count": 61,
     "metadata": {},
     "output_type": "execute_result"
    }
   ],
   "source": [
    "# Diferencia simétrica\n",
    "A.symmetric_difference(B), B.symmetric_difference(A)"
   ]
  },
  {
   "cell_type": "code",
   "execution_count": 62,
   "metadata": {},
   "outputs": [
    {
     "data": {
      "text/plain": [
       "({'COL', 'MEX', 'PER'}, {'COL', 'MEX', 'PER'})"
      ]
     },
     "execution_count": 62,
     "metadata": {},
     "output_type": "execute_result"
    }
   ],
   "source": [
    "# Diferencia simétrica\n",
    "A ^ B, B ^ A"
   ]
  },
  {
   "cell_type": "markdown",
   "metadata": {},
   "source": [
    "## **2. Comprehensions**"
   ]
  },
  {
   "cell_type": "markdown",
   "metadata": {},
   "source": [
    "### **List Comprehension**"
   ]
  },
  {
   "cell_type": "code",
   "execution_count": 69,
   "metadata": {},
   "outputs": [
    {
     "data": {
      "text/plain": [
       "[1, 2, 3, 4, 5, 6, 7, 8, 9, 10]"
      ]
     },
     "execution_count": 69,
     "metadata": {},
     "output_type": "execute_result"
    }
   ],
   "source": [
    "list_comp = [i+1 for i in range(10)]\n",
    "list_comp"
   ]
  },
  {
   "cell_type": "code",
   "execution_count": 72,
   "metadata": {},
   "outputs": [
    {
     "data": {
      "text/plain": [
       "[1, 3, 5, 7, 9]"
      ]
     },
     "execution_count": 72,
     "metadata": {},
     "output_type": "execute_result"
    }
   ],
   "source": [
    "list_comp = [i+1 for i in range(10) if i%2==0]\n",
    "list_comp"
   ]
  },
  {
   "cell_type": "markdown",
   "metadata": {},
   "source": [
    "### **Dictionary Comprehension**"
   ]
  },
  {
   "cell_type": "code",
   "execution_count": 9,
   "metadata": {},
   "outputs": [
    {
     "data": {
      "text/plain": [
       "{0: 0, 1: 1, 2: 4, 3: 9, 4: 16, 5: 25, 6: 36, 7: 49, 8: 64, 9: 81}"
      ]
     },
     "execution_count": 9,
     "metadata": {},
     "output_type": "execute_result"
    }
   ],
   "source": [
    "{i: i**2 for i in range(10)}"
   ]
  },
  {
   "cell_type": "code",
   "execution_count": 10,
   "metadata": {},
   "outputs": [],
   "source": [
    "# Creando un diccionario a partir de objetos iterables\n",
    "paises = ['COL', 'BRA', 'ARG', 'CHI']\n",
    "pob = [50, 150, 50, 40]"
   ]
  },
  {
   "cell_type": "code",
   "execution_count": 14,
   "metadata": {},
   "outputs": [
    {
     "data": {
      "text/plain": [
       "{'COL': 50, 'BRA': 150, 'ARG': 50, 'CHI': 40}"
      ]
     },
     "execution_count": 14,
     "metadata": {},
     "output_type": "execute_result"
    }
   ],
   "source": [
    "{paises[i]: pob[i] for i in range(len(paises))}"
   ]
  },
  {
   "cell_type": "code",
   "execution_count": 16,
   "metadata": {},
   "outputs": [
    {
     "data": {
      "text/plain": [
       "{'COL': 50, 'CHI': 40}"
      ]
     },
     "execution_count": 16,
     "metadata": {},
     "output_type": "execute_result"
    }
   ],
   "source": [
    "# Agregando condicionales\n",
    "{paises[i]: pob[i] for i in range(len(paises)) if 'C' in paises[i]}"
   ]
  },
  {
   "cell_type": "code",
   "execution_count": 33,
   "metadata": {},
   "outputs": [
    {
     "data": {
      "text/plain": [
       "{'COL': 50, 'BRA': 150, 'ARG': 50, 'CHI': 40}"
      ]
     },
     "execution_count": 33,
     "metadata": {},
     "output_type": "execute_result"
    }
   ],
   "source": [
    "# Otra alternativa es usar el metodo zip\n",
    "my_dict = dict(zip(paises, pob))\n",
    "my_dict"
   ]
  },
  {
   "cell_type": "code",
   "execution_count": 73,
   "metadata": {},
   "outputs": [
    {
     "data": {
      "text/plain": [
       "{'H': 1,\n",
       " 'o': 2,\n",
       " 'l': 1,\n",
       " 'a': 1,\n",
       " ',': 1,\n",
       " ' ': 1,\n",
       " 'M': 1,\n",
       " 'u': 1,\n",
       " 'n': 1,\n",
       " 'd': 1}"
      ]
     },
     "execution_count": 73,
     "metadata": {},
     "output_type": "execute_result"
    }
   ],
   "source": [
    "# Contar cuantas veces se repite cada letra\n",
    "my_string = 'Hola, Mundo'\n",
    "{c: my_string.upper().count(c.upper()) for c in my_string}"
   ]
  },
  {
   "cell_type": "code",
   "execution_count": 74,
   "metadata": {},
   "outputs": [
    {
     "data": {
      "text/plain": [
       "{'El': 14,\n",
       " 'sol': 3,\n",
       " 'brillaba': 1,\n",
       " 'en': 12,\n",
       " 'el': 14,\n",
       " 'cielo': 2,\n",
       " 'despejado': 1,\n",
       " 'mientras': 2,\n",
       " 'viento': 1,\n",
       " 'soplaba': 1,\n",
       " 'suavemente': 1,\n",
       " 'la': 9,\n",
       " 'pradera.': 1,\n",
       " 'Un': 4,\n",
       " 'pequeño': 1,\n",
       " 'riachuelo': 1,\n",
       " 'serpenteaba': 1,\n",
       " 'por': 1,\n",
       " 'campo,': 1,\n",
       " 'murmurando': 1,\n",
       " 'tranquilamente': 1,\n",
       " 'agua': 1,\n",
       " 'cristalina': 1,\n",
       " 'reflejaba': 1,\n",
       " 'luz': 1,\n",
       " 'del': 1,\n",
       " 'sol.': 1,\n",
       " 'grupo': 1,\n",
       " 'de': 6,\n",
       " 'ciervos': 1,\n",
       " 'pastaba': 1,\n",
       " 'hierba': 1,\n",
       " 'alta,': 1,\n",
       " 'ocasionalmente': 1,\n",
       " 'levantando': 1,\n",
       " 'cabeza': 1,\n",
       " 'para': 2,\n",
       " 'olfatear': 1,\n",
       " 'aire.': 1,\n",
       " 'En': 12,\n",
       " 'horizonte,': 1,\n",
       " 'un': 4,\n",
       " 'pájaro': 1,\n",
       " 'solitario': 1,\n",
       " 'trazaba': 1,\n",
       " 'círculos': 1,\n",
       " 'cielo,': 1,\n",
       " 'cantando': 1,\n",
       " 'su': 2,\n",
       " 'melodía.': 1,\n",
       " 'Era': 2,\n",
       " 'día': 2,\n",
       " 'perfecto': 1,\n",
       " 'disfrutar': 1,\n",
       " 'belleza': 1,\n",
       " 'naturaleza.': 1}"
      ]
     },
     "execution_count": 74,
     "metadata": {},
     "output_type": "execute_result"
    }
   ],
   "source": [
    "# Contar cuantas veces se repite cada palabra\n",
    "my_string = 'El sol brillaba en el cielo despejado mientras el viento soplaba suavemente en la pradera. Un pequeño riachuelo serpenteaba por el campo, murmurando tranquilamente mientras el agua cristalina reflejaba la luz del sol. Un grupo de ciervos pastaba en la hierba alta, ocasionalmente levantando la cabeza para olfatear el aire. En el horizonte, un pájaro solitario trazaba círculos en el cielo, cantando su melodía. Era un día perfecto para disfrutar de la belleza de la naturaleza.'\n",
    "{c: my_string.upper().count(c.upper()) for c in my_string.split( )}"
   ]
  }
 ],
 "metadata": {
  "kernelspec": {
   "display_name": "Python 3 (ipykernel)",
   "language": "python",
   "name": "python3"
  },
  "language_info": {
   "codemirror_mode": {
    "name": "ipython",
    "version": 3
   },
   "file_extension": ".py",
   "mimetype": "text/x-python",
   "name": "python",
   "nbconvert_exporter": "python",
   "pygments_lexer": "ipython3",
   "version": "3.10.4"
  },
  "vscode": {
   "interpreter": {
    "hash": "6a789dfa835230ebb7620d225cd129b0e10e9ac8573eae947b38c72213cfe3dd"
   }
  }
 },
 "nbformat": 4,
 "nbformat_minor": 4
}
